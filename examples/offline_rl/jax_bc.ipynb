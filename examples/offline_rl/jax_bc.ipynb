{
 "cells": [
  {
   "cell_type": "code",
   "execution_count": null,
   "id": "c09311f4",
   "metadata": {},
   "outputs": [],
   "source": [
    "import equinox as eqx\n",
    "import gym\n",
    "import jax\n",
    "import jax.numpy as jnp\n",
    "import jax.random as jrandom\n",
    "import numpy as np\n",
    "import optax\n",
    "import sys\n",
    "import timeit\n",
    "import wandb\n",
    "\n",
    "from argparse import Namespace\n",
    "from functools import partial\n",
    "from jax import grad, jit, vmap\n",
    "from typing import Sequence, Tuple, Dict\n",
    "\n",
    "from jax_learning.agents.rl_agents import RLAgent\n",
    "from jax_learning.buffers.ram_buffers import NextStateNumPyBuffer\n",
    "from jax_learning.buffers.utils import batch_flatten, to_jnp\n",
    "from jax_learning.common import init_wandb\n",
    "from jax_learning.constants import DISCRETE, CONTINUOUS\n",
    "from jax_learning.learners.behavioural_cloning import BC\n",
    "from jax_learning.rl_utils import interact, evaluate\n",
    "\n",
    "from jax_learning.models.policies import MLPGaussianPolicy"
   ]
  },
  {
   "cell_type": "code",
   "execution_count": null,
   "id": "71b7a31c",
   "metadata": {},
   "outputs": [],
   "source": [
    "init_wandb(\n",
    "    project=\"test_jax_rl\", group=\"hopper-bc_test\", mode=\"disabled\"\n",
    ")"
   ]
  },
  {
   "cell_type": "code",
   "execution_count": null,
   "id": "d6e7b7b0",
   "metadata": {},
   "outputs": [],
   "source": [
    "cfg_dict = {\n",
    "    # Environment setup\n",
    "    \"env\": \"Hopper-v2\",\n",
    "    \"seed\": 0,\n",
    "    \"render\": False,\n",
    "    \"clip_action\": True,\n",
    "    \"max_action\": 1.0,\n",
    "    \"min_action\": -1.0,\n",
    "    # Experiment progress\n",
    "    \"load_step\": 0,\n",
    "    \"log_interval\": 1,\n",
    "    \"checkpoint_frequency\": 5000,\n",
    "    \"save_path\": None,\n",
    "#     \"load_path\": \"/Users/chanb/research/personal/jax_learning/examples/offline_rl/unnamed_run/10-06-22_10_16_10/checkpoints/timestep_1/agent\",\n",
    "    \"load_path\": None,\n",
    "    # Learning hyperparameters\n",
    "    \"gamma\": 0.99,\n",
    "    \"max_timesteps\": 1000000,\n",
    "    \"update_frequency\": 1,\n",
    "    \"lr\": 3e-4,\n",
    "    \"batch_size\": 256,\n",
    "    \"max_grad_norm\": 10.0,\n",
    "    \"expert_buffer_path\": \"hopper_medium_expert-v2.pkl\",\n",
    "    # Normalization\n",
    "    \"normalize_obs\": False,\n",
    "    \"normalize_value\": False,\n",
    "    # Model architecture\n",
    "    \"hidden_dim\": 128,\n",
    "    \"num_hidden\": 2,\n",
    "    # Evaluation\n",
    "    \"evaluation_frequency\": 1,\n",
    "    \"eval_cfg\": {\n",
    "        \"num_episodes\": 10,\n",
    "        \"seed\": 1,\n",
    "        \"render\": True,\n",
    "        \"clip_action\": True,\n",
    "        \"max_action\": 1.0,\n",
    "        \"min_action\": -1.0,\n",
    "    },\n",
    "}\n",
    "cfg = Namespace(**cfg_dict)\n",
    "eval_cfg = Namespace(**cfg.eval_cfg)\n",
    "wandb.config = cfg_dict"
   ]
  },
  {
   "cell_type": "code",
   "execution_count": null,
   "id": "c3a0ee32",
   "metadata": {},
   "outputs": [],
   "source": [
    "np.random.seed(cfg.seed)"
   ]
  },
  {
   "cell_type": "code",
   "execution_count": null,
   "id": "2a1f1e4f",
   "metadata": {},
   "outputs": [],
   "source": [
    "env = gym.make(cfg.env)"
   ]
  },
  {
   "cell_type": "code",
   "execution_count": null,
   "id": "b99f6eb5",
   "metadata": {},
   "outputs": [],
   "source": [
    "cfg.obs_dim = env.observation_space.shape\n",
    "cfg.act_dim = env.action_space.shape\n",
    "cfg.action_space = CONTINUOUS"
   ]
  },
  {
   "cell_type": "code",
   "execution_count": null,
   "id": "e7072ae8",
   "metadata": {},
   "outputs": [],
   "source": [
    "cfg.h_state_dim = (1,)\n",
    "cfg.rew_dim = (1,)"
   ]
  },
  {
   "cell_type": "code",
   "execution_count": null,
   "id": "341519a9",
   "metadata": {},
   "outputs": [],
   "source": [
    "cfg.buffer_rng = np.random.RandomState(cfg.seed)\n",
    "cfg.env_rng = np.random.RandomState(cfg.seed)\n",
    "cfg.agent_key, cfg.model_key = jrandom.split(jrandom.PRNGKey(cfg.seed), num=2)\n",
    "eval_cfg.env_rng = np.random.RandomState(eval_cfg.seed)\n",
    "cfg.evaluation_cfg = eval_cfg"
   ]
  },
  {
   "cell_type": "code",
   "execution_count": null,
   "id": "18b2f86d",
   "metadata": {},
   "outputs": [],
   "source": [
    "cfg"
   ]
  },
  {
   "cell_type": "code",
   "execution_count": null,
   "id": "b02f471e",
   "metadata": {},
   "outputs": [],
   "source": [
    "POLICY = \"policy\"\n",
    "\n",
    "buffer = NextStateNumPyBuffer(\n",
    "    buffer_size=cfg.update_frequency,\n",
    "    obs_dim=cfg.obs_dim,\n",
    "    h_state_dim=cfg.h_state_dim,\n",
    "    act_dim=cfg.act_dim,\n",
    "    rew_dim=cfg.rew_dim,\n",
    "    load_buffer=cfg.expert_buffer_path,\n",
    ")\n",
    "\n",
    "model = {\n",
    "    POLICY: MLPGaussianPolicy(\n",
    "        obs_dim=cfg.obs_dim,\n",
    "        act_dim=cfg.act_dim,\n",
    "        hidden_dim=cfg.hidden_dim,\n",
    "        num_hidden=cfg.num_hidden,\n",
    "        key=cfg.model_key,\n",
    "        min_std=1e-7,\n",
    "    )\n",
    "}\n",
    "\n",
    "opt_transforms = [optax.scale_by_rms(), optax.scale(-cfg.lr)]\n",
    "if cfg.max_grad_norm:\n",
    "    opt_transforms.insert(0, optax.clip_by_global_norm(cfg.max_grad_norm))\n",
    "opt = {POLICY: optax.chain(*opt_transforms)}\n",
    "\n",
    "\n",
    "learner = BC(model=model, opt=opt, buffer=buffer, cfg=cfg)\n",
    "\n",
    "agent = RLAgent(\n",
    "    model=model, model_key=POLICY, buffer=buffer, learner=learner, key=cfg.agent_key\n",
    ")"
   ]
  },
  {
   "cell_type": "code",
   "execution_count": null,
   "id": "c7e8120a",
   "metadata": {
    "scrolled": false
   },
   "outputs": [],
   "source": [
    "if cfg.load_path:\n",
    "    agent.load(cfg.load_path)\n",
    "    assert 0"
   ]
  },
  {
   "cell_type": "code",
   "execution_count": null,
   "id": "465e2229",
   "metadata": {},
   "outputs": [],
   "source": [
    "%wandb"
   ]
  },
  {
   "cell_type": "code",
   "execution_count": null,
   "id": "af255f8b",
   "metadata": {
    "scrolled": true
   },
   "outputs": [],
   "source": [
    "interact(env, agent, cfg)"
   ]
  },
  {
   "cell_type": "code",
   "execution_count": null,
   "id": "63f9e495",
   "metadata": {},
   "outputs": [],
   "source": [
    "wandb.finish()"
   ]
  }
 ],
 "metadata": {
  "kernelspec": {
   "display_name": "Python 3 (ipykernel)",
   "language": "python",
   "name": "python3"
  },
  "language_info": {
   "codemirror_mode": {
    "name": "ipython",
    "version": 3
   },
   "file_extension": ".py",
   "mimetype": "text/x-python",
   "name": "python",
   "nbconvert_exporter": "python",
   "pygments_lexer": "ipython3",
   "version": "3.10.6"
  },
  "vscode": {
   "interpreter": {
    "hash": "b0d203896f835d8f9f2391aae3594d1ca0681aaa685c73959edeafc49ea10fd8"
   }
  }
 },
 "nbformat": 4,
 "nbformat_minor": 5
}
