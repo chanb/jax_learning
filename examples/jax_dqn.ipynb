{
 "cells": [
  {
   "cell_type": "code",
   "execution_count": 1,
   "id": "bf3ba0e0",
   "metadata": {},
   "outputs": [],
   "source": [
    "import equinox as eqx\n",
    "import gym\n",
    "import jax\n",
    "import jax.numpy as jnp\n",
    "import jax.random as jrandom\n",
    "import numpy as np\n",
    "import optax\n",
    "import sys\n",
    "import timeit\n",
    "import wandb\n",
    "\n",
    "from argparse import Namespace\n",
    "from functools import partial\n",
    "from jax import grad, jit, vmap\n",
    "from typing import Sequence\n",
    "\n",
    "from jax_learning.agents.rl_agents import EpsilonGreedyAgent\n",
    "from jax_learning.buffers.ram_buffers import NextStateNumPyBuffer\n",
    "from jax_learning.buffers.utils import batch_flatten, to_jnp\n",
    "from jax_learning.common import init_wandb\n",
    "from jax_learning.constants import DISCRETE\n",
    "from jax_learning.envs.wrappers.image import HWC2CHW\n",
    "from jax_learning.learners.q_learning import QLearning\n",
    "from jax_learning.models.q_functions import SoftmaxQ, NatureQ\n",
    "from jax_learning.rl_utils import interact, evaluate"
   ]
  },
  {
   "cell_type": "code",
   "execution_count": 2,
   "id": "64a46b53",
   "metadata": {},
   "outputs": [],
   "source": [
    "init_wandb(project=\"test_jax_rl\", group=\"breakout-dqn_test\", mode=\"disabled\")"
   ]
  },
  {
   "cell_type": "code",
   "execution_count": 3,
   "id": "b68d3a1c",
   "metadata": {},
   "outputs": [],
   "source": [
    "cfg_dict = {\n",
    "    # Environment setup\n",
    "    \"env\": \"Breakout-v4\",\n",
    "    \"seed\": 0,\n",
    "    \"render\": False,\n",
    "    # Experiment progress\n",
    "    \"load_step\": 0,\n",
    "    \"log_interval\": 5000,\n",
    "    \"checkpoint_frequency\": 0,\n",
    "    \"save_path\": None,\n",
    "    # Learning hyperparameters\n",
    "    \"max_timesteps\": 1000000,\n",
    "    \"buffer_size\": 1000000,\n",
    "    \"buffer_warmup\": 1000,\n",
    "    \"num_gradient_steps\": 1,\n",
    "    \"batch_size\": 64,\n",
    "    \"lr\": 3e-4,\n",
    "    \"max_grad_norm\": 10.0,\n",
    "    \"gamma\": 0.99,\n",
    "    \"update_frequency\": 4,\n",
    "    \"target_update_frequency\": 1,\n",
    "    \"tau\": 0.005,  # This is for polyak averaging of target network\n",
    "    \"omega\": 1.0,  # This is for residual gradient: 1 for semi-gradient\n",
    "    # Epsilon greedy hyperparameters\n",
    "    \"init_eps\": 1.0,\n",
    "    \"min_eps\": 0.02,\n",
    "    \"eps_decay\": 0.9999,\n",
    "    \"eps_warmup\": 1000,\n",
    "    # Normalization\n",
    "    \"normalize_obs\": False,\n",
    "    \"normalize_value\": False,\n",
    "    # Model architecture\n",
    "    \"hidden_dim\": 64,\n",
    "    \"num_hidden\": 1,\n",
    "    # Evaluation\n",
    "    \"evaluation_frequency\": 5000,\n",
    "    \"eval_cfg\": {\n",
    "        \"num_episodes\": 10,\n",
    "        \"seed\": 1,\n",
    "        \"render\": True,\n",
    "    },\n",
    "}\n",
    "cfg = Namespace(**cfg_dict)\n",
    "eval_cfg = Namespace(**cfg.eval_cfg)\n",
    "wandb.config = cfg_dict"
   ]
  },
  {
   "cell_type": "code",
   "execution_count": 4,
   "id": "733f2d11",
   "metadata": {},
   "outputs": [],
   "source": [
    "np.random.seed(cfg.seed)"
   ]
  },
  {
   "cell_type": "code",
   "execution_count": 5,
   "id": "502213a1",
   "metadata": {
    "scrolled": false
   },
   "outputs": [
    {
     "name": "stderr",
     "output_type": "stream",
     "text": [
      "A.L.E: Arcade Learning Environment (version 0.8.0+919230b)\n",
      "[Powered by Stella]\n",
      "/Users/chanb/research/personal/jax_learning/.venv/lib/python3.10/site-packages/gym/spaces/box.py:127: UserWarning: \u001b[33mWARN: Box bound precision lowered by casting to float32\u001b[0m\n",
      "  logger.warn(f\"Box bound precision lowered by casting to {self.dtype}\")\n"
     ]
    }
   ],
   "source": [
    "env = gym.make(cfg.env)\n",
    "env = HWC2CHW(env, scale=255)"
   ]
  },
  {
   "cell_type": "code",
   "execution_count": 6,
   "id": "82ed36ae",
   "metadata": {},
   "outputs": [],
   "source": [
    "cfg.obs_dim = env.observation_space.shape\n",
    "cfg.act_dim = (env.action_space.n,)\n",
    "cfg.action_space = DISCRETE"
   ]
  },
  {
   "cell_type": "code",
   "execution_count": 7,
   "id": "8f7940a3",
   "metadata": {},
   "outputs": [],
   "source": [
    "cfg.h_state_dim = (1,)\n",
    "cfg.rew_dim = (1,)"
   ]
  },
  {
   "cell_type": "code",
   "execution_count": 8,
   "id": "b8d36302",
   "metadata": {},
   "outputs": [],
   "source": [
    "cfg.buffer_rng = np.random.RandomState(cfg.seed)\n",
    "cfg.env_rng = np.random.RandomState(cfg.seed)\n",
    "cfg.agent_key, cfg.model_key = jrandom.split(jrandom.PRNGKey(cfg.seed), num=2)\n",
    "eval_cfg.env_rng = np.random.RandomState(eval_cfg.seed)\n",
    "cfg.evaluation_cfg = eval_cfg"
   ]
  },
  {
   "cell_type": "code",
   "execution_count": 9,
   "id": "3a581441",
   "metadata": {},
   "outputs": [
    {
     "data": {
      "text/plain": [
       "Namespace(env='Breakout-v4', seed=0, render=False, load_step=0, log_interval=5000, checkpoint_frequency=0, save_path=None, max_timesteps=1000000, buffer_size=1000000, buffer_warmup=1000, num_gradient_steps=1, batch_size=64, lr=0.0003, max_grad_norm=10.0, gamma=0.99, update_frequency=4, target_update_frequency=1, tau=0.005, omega=1.0, init_eps=1.0, min_eps=0.02, eps_decay=0.9999, eps_warmup=1000, normalize_obs=False, normalize_value=False, hidden_dim=64, num_hidden=1, evaluation_frequency=5000, eval_cfg={'num_episodes': 10, 'seed': 1, 'render': True}, obs_dim=(3, 210, 160), act_dim=(4,), action_space='discrete', h_state_dim=(1,), rew_dim=(1,), buffer_rng=RandomState(MT19937) at 0x16A2F2C40, env_rng=RandomState(MT19937) at 0x16A2F2D40, agent_key=DeviceArray([4146024105,  967050713], dtype=uint32), model_key=DeviceArray([2718843009, 1272950319], dtype=uint32), evaluation_cfg=Namespace(num_episodes=10, seed=1, render=True, env_rng=RandomState(MT19937) at 0x110F48940))"
      ]
     },
     "execution_count": 9,
     "metadata": {},
     "output_type": "execute_result"
    }
   ],
   "source": [
    "cfg"
   ]
  },
  {
   "cell_type": "code",
   "execution_count": 10,
   "id": "8e72cdf2",
   "metadata": {
    "scrolled": false
   },
   "outputs": [],
   "source": [
    "Q = \"q\"\n",
    "\n",
    "buffer = NextStateNumPyBuffer(\n",
    "    buffer_size=cfg.buffer_size,\n",
    "    obs_dim=cfg.obs_dim,\n",
    "    h_state_dim=cfg.h_state_dim,\n",
    "    act_dim=(1,) if cfg.action_space == DISCRETE else cfg.act_dim,\n",
    "    rew_dim=cfg.rew_dim,\n",
    "    rng=cfg.buffer_rng,\n",
    ")\n",
    "\n",
    "model = {\n",
    "    Q: SoftmaxQ(\n",
    "        q_function=NatureQ(\n",
    "            in_channel=cfg.obs_dim[0],\n",
    "            height=cfg.obs_dim[1],\n",
    "            width=cfg.obs_dim[2],\n",
    "            out_dim=cfg.act_dim,\n",
    "            hidden_dim=cfg.hidden_dim,\n",
    "            num_hidden=cfg.num_hidden,\n",
    "            key=cfg.model_key,\n",
    "        )\n",
    "    ),\n",
    "}\n",
    "\n",
    "target_model = {\n",
    "    Q: SoftmaxQ(\n",
    "        q_function=NatureQ(\n",
    "            in_channel=cfg.obs_dim[0],\n",
    "            height=cfg.obs_dim[1],\n",
    "            width=cfg.obs_dim[2],\n",
    "            out_dim=cfg.act_dim,\n",
    "            hidden_dim=cfg.hidden_dim,\n",
    "            num_hidden=cfg.num_hidden,\n",
    "            key=cfg.model_key,\n",
    "        )\n",
    "    ),\n",
    "}\n",
    "\n",
    "opt_transforms = [optax.scale_by_rms(), optax.scale(-cfg.lr)]\n",
    "if cfg.max_grad_norm:\n",
    "    opt_transforms.insert(0, optax.clip_by_global_norm(cfg.max_grad_norm))\n",
    "opt = {Q: optax.chain(*opt_transforms)}\n",
    "\n",
    "learner = QLearning(\n",
    "    model=model, target_model=target_model, opt=opt, buffer=buffer, cfg=cfg\n",
    ")\n",
    "\n",
    "agent = EpsilonGreedyAgent(\n",
    "    model=model,\n",
    "    model_key=Q,\n",
    "    buffer=buffer,\n",
    "    learner=learner,\n",
    "    init_eps=cfg.init_eps,\n",
    "    min_eps=cfg.min_eps,\n",
    "    eps_decay=cfg.eps_decay,\n",
    "    eps_warmup=cfg.eps_warmup,\n",
    "    action_space=DISCRETE,\n",
    "    action_dim=cfg.act_dim[0],\n",
    "    key=cfg.agent_key,\n",
    ")"
   ]
  },
  {
   "cell_type": "code",
   "execution_count": 11,
   "id": "952d3924",
   "metadata": {
    "scrolled": false
   },
   "outputs": [
    {
     "data": {
      "text/html": [],
      "text/plain": [
       "<wandb.jupyter.IFrame at 0x16a766e60>"
      ]
     },
     "metadata": {},
     "output_type": "display_data"
    }
   ],
   "source": [
    "%wandb"
   ]
  },
  {
   "cell_type": "code",
   "execution_count": 12,
   "id": "d00043b5",
   "metadata": {
    "scrolled": false
   },
   "outputs": [
    {
     "name": "stderr",
     "output_type": "stream",
     "text": [
      "  0%|                         | 972/1000000 [00:02<43:18, 384.40it/s]"
     ]
    },
    {
     "name": "stdout",
     "output_type": "stream",
     "text": [
      "sample: 0.0065018750028684735\n",
      "put to device: 0.0005341670184861869\n",
      "update Q: 1.3831927920109592\n",
      "sample: 0.005517332989256829\n",
      "put to device: 0.00023899998632259667\n",
      "update Q: 0.37944674998288974\n",
      "sample: 0.00501412499579601\n",
      "put to device: 0.0002509589830879122\n",
      "update Q: 0.38247829201282\n",
      "sample: 0.005646042001899332\n",
      "put to device: 0.00023437500931322575\n"
     ]
    },
    {
     "name": "stderr",
     "output_type": "stream",
     "text": [
      "\r",
      "  0%|                       | 1013/1000000 [00:05<5:43:36, 48.46it/s]"
     ]
    },
    {
     "name": "stdout",
     "output_type": "stream",
     "text": [
      "update Q: 0.3772512919967994\n",
      "sample: 0.0059889999974984676\n",
      "put to device: 0.0002976669929921627\n",
      "update Q: 0.3797273749951273\n",
      "sample: 0.0050945420225616544\n",
      "put to device: 0.0002346250112168491\n",
      "update Q: 0.38622470799600706\n",
      "sample: 0.005729041004087776\n",
      "put to device: 0.00023004200193099678\n",
      "update Q: 0.37737887498224154\n",
      "sample: 0.005105666990857571\n",
      "put to device: 0.0002213749976363033\n",
      "update Q: 0.37763087498024106\n",
      "sample: 0.004754624998895451\n",
      "put to device: 0.00022183300461620092\n",
      "update Q: 0.37970033401506953\n",
      "sample: 0.005145290982909501\n",
      "put to device: 0.00023616699036210775\n",
      "update Q: 0.39032970799598843\n",
      "sample: 0.005505083972821012\n",
      "put to device: 0.0002307090035174042\n"
     ]
    },
    {
     "name": "stderr",
     "output_type": "stream",
     "text": [
      "\r",
      "  0%|                      | 1042/1000000 [00:08<10:19:28, 26.88it/s]"
     ]
    },
    {
     "name": "stdout",
     "output_type": "stream",
     "text": [
      "update Q: 0.3793186660041101\n",
      "sample: 0.005992041988065466\n",
      "put to device: 0.0002778329944703728\n",
      "update Q: 0.3787002910103183\n",
      "sample: 0.004799124988494441\n",
      "put to device: 0.00022799998987466097\n",
      "update Q: 0.37731362498016097\n",
      "sample: 0.004571291996398941\n",
      "put to device: 0.00022987500415183604\n",
      "update Q: 0.3791487090056762\n",
      "sample: 0.004459040996152908\n",
      "put to device: 0.00023720800527371466\n",
      "update Q: 0.3809495000168681\n",
      "sample: 0.00433354199049063\n",
      "put to device: 0.0002310840063728392\n"
     ]
    },
    {
     "name": "stderr",
     "output_type": "stream",
     "text": [
      "\r",
      "  0%|                      | 1063/1000000 [00:10<13:15:41, 20.92it/s]"
     ]
    },
    {
     "name": "stdout",
     "output_type": "stream",
     "text": [
      "update Q: 0.37941679201321676\n",
      "sample: 0.005661957984557375\n",
      "put to device: 0.0002871670003514737\n",
      "update Q: 0.37765783301438205\n",
      "sample: 0.0051626249914988875\n",
      "put to device: 0.00023062500986270607\n",
      "update Q: 0.380612334003672\n",
      "sample: 0.004948416986735538\n",
      "put to device: 0.00026058300863951445\n",
      "update Q: 0.3799479169829283\n",
      "sample: 0.005142749985679984\n",
      "put to device: 0.00022887499653734267\n"
     ]
    },
    {
     "name": "stderr",
     "output_type": "stream",
     "text": [
      "\r",
      "  0%|                      | 1078/1000000 [00:11<15:50:34, 17.51it/s]"
     ]
    },
    {
     "name": "stdout",
     "output_type": "stream",
     "text": [
      "update Q: 0.3818934999871999\n",
      "sample: 0.005613749992335215\n",
      "put to device: 0.0003141670022159815\n",
      "update Q: 0.38246512500336394\n",
      "sample: 0.0042374169861432165\n",
      "put to device: 0.00023704199702478945\n",
      "update Q: 0.40919858298730105\n",
      "sample: 0.00506083300570026\n",
      "put to device: 0.00022487499518319964\n"
     ]
    },
    {
     "name": "stderr",
     "output_type": "stream",
     "text": [
      "\r",
      "  0%|                      | 1089/1000000 [00:13<18:06:22, 15.32it/s]"
     ]
    },
    {
     "name": "stdout",
     "output_type": "stream",
     "text": [
      "update Q: 0.4161198749789037\n",
      "sample: 0.004970916983438656\n",
      "put to device: 0.00024133300757966936\n",
      "update Q: 0.38723270798800513\n",
      "sample: 0.00443525001173839\n",
      "put to device: 0.0002566669718362391\n"
     ]
    },
    {
     "name": "stderr",
     "output_type": "stream",
     "text": [
      "\r",
      "  0%|                      | 1097/1000000 [00:13<19:22:45, 14.32it/s]"
     ]
    },
    {
     "name": "stdout",
     "output_type": "stream",
     "text": [
      "update Q: 0.3799997090245597\n",
      "sample: 0.0052621670183725655\n",
      "put to device: 0.0002554579987190664\n"
     ]
    },
    {
     "name": "stderr",
     "output_type": "stream",
     "text": [
      "\r",
      "  0%|                      | 1103/1000000 [00:14<19:18:54, 14.37it/s]"
     ]
    },
    {
     "name": "stdout",
     "output_type": "stream",
     "text": [
      "update Q: 0.3800355830171611\n",
      "sample: 0.005351125000743195\n",
      "put to device: 0.00029420899227261543\n"
     ]
    },
    {
     "name": "stderr",
     "output_type": "stream",
     "text": [
      "\r",
      "  0%|                      | 1108/1000000 [00:14<19:41:08, 14.10it/s]"
     ]
    },
    {
     "name": "stdout",
     "output_type": "stream",
     "text": [
      "update Q: 0.37691262501175515\n",
      "sample: 0.005022915982408449\n",
      "put to device: 0.0002575830148998648\n"
     ]
    },
    {
     "name": "stderr",
     "output_type": "stream",
     "text": [
      "\r",
      "  0%|                      | 1112/1000000 [00:15<20:41:55, 13.41it/s]"
     ]
    },
    {
     "name": "stdout",
     "output_type": "stream",
     "text": [
      "update Q: 0.3802861669973936\n",
      "sample: 0.005168958014110103\n",
      "put to device: 0.0002822080277837813\n"
     ]
    },
    {
     "name": "stderr",
     "output_type": "stream",
     "text": [
      "\r",
      "  0%|                      | 1115/1000000 [00:15<22:43:47, 12.21it/s]"
     ]
    },
    {
     "name": "stdout",
     "output_type": "stream",
     "text": [
      "update Q: 0.39090479200240225\n",
      "sample: 0.0048618330038152635\n",
      "put to device: 0.00022683298448100686\n"
     ]
    },
    {
     "name": "stderr",
     "output_type": "stream",
     "text": [
      "\r",
      "  0%|                      | 1118/1000000 [00:15<24:50:41, 11.17it/s]"
     ]
    },
    {
     "name": "stdout",
     "output_type": "stream",
     "text": [
      "update Q: 0.3860368329915218\n",
      "sample: 0.005022291996283457\n",
      "put to device: 0.0002340409846510738\n"
     ]
    },
    {
     "name": "stderr",
     "output_type": "stream",
     "text": [
      "\r",
      "  0%|                      | 1121/1000000 [00:16<26:55:09, 10.31it/s]"
     ]
    },
    {
     "name": "stdout",
     "output_type": "stream",
     "text": [
      "update Q: 0.3826870839984622\n",
      "sample: 0.005173250014195219\n",
      "put to device: 0.0002644580090418458\n"
     ]
    },
    {
     "name": "stderr",
     "output_type": "stream",
     "text": [
      "\r",
      "  0%|                      | 1125/1000000 [00:16<27:23:02, 10.13it/s]"
     ]
    },
    {
     "name": "stdout",
     "output_type": "stream",
     "text": [
      "update Q: 0.3953966250119265\n",
      "sample: 0.0051713330030906945\n",
      "put to device: 0.0002842499816324562\n"
     ]
    },
    {
     "name": "stderr",
     "output_type": "stream",
     "text": [
      "\r",
      "  0%|                      | 1129/1000000 [00:17<27:42:58, 10.01it/s]"
     ]
    },
    {
     "name": "stdout",
     "output_type": "stream",
     "text": [
      "update Q: 0.3906417909893207\n",
      "sample: 0.005082417017547414\n",
      "put to device: 0.00023079197853803635\n"
     ]
    },
    {
     "name": "stderr",
     "output_type": "stream",
     "text": [
      "\r",
      "  0%|                      | 1133/1000000 [00:17<27:56:30,  9.93it/s]"
     ]
    },
    {
     "name": "stdout",
     "output_type": "stream",
     "text": [
      "update Q: 0.39003037501242943\n",
      "sample: 0.004869583004619926\n",
      "put to device: 0.0002910839975811541\n"
     ]
    },
    {
     "name": "stderr",
     "output_type": "stream",
     "text": [
      "\r",
      "  0%|                      | 1137/1000000 [00:17<27:59:27,  9.91it/s]"
     ]
    },
    {
     "name": "stdout",
     "output_type": "stream",
     "text": [
      "update Q: 0.384424541000044\n",
      "sample: 0.0048650410026311874\n",
      "put to device: 0.00024079199647530913\n"
     ]
    },
    {
     "name": "stderr",
     "output_type": "stream",
     "text": [
      "\r",
      "  0%|                      | 1141/1000000 [00:18<28:01:16,  9.90it/s]"
     ]
    },
    {
     "name": "stdout",
     "output_type": "stream",
     "text": [
      "update Q: 0.3847961249994114\n",
      "sample: 0.005432374979136512\n",
      "put to device: 0.00022399998852051795\n"
     ]
    },
    {
     "name": "stderr",
     "output_type": "stream",
     "text": [
      "\r",
      "  0%|                      | 1145/1000000 [00:18<27:58:18,  9.92it/s]"
     ]
    },
    {
     "name": "stdout",
     "output_type": "stream",
     "text": [
      "update Q: 0.38031558398506604\n",
      "sample: 0.004584709007758647\n",
      "put to device: 0.00024120800662785769\n"
     ]
    },
    {
     "name": "stderr",
     "output_type": "stream",
     "text": [
      "\r",
      "  0%|                      | 1149/1000000 [00:19<28:02:03,  9.90it/s]"
     ]
    },
    {
     "name": "stdout",
     "output_type": "stream",
     "text": [
      "update Q: 0.3840427910035942\n",
      "sample: 0.00484120799228549\n",
      "put to device: 0.00022441698820330203\n"
     ]
    },
    {
     "name": "stderr",
     "output_type": "stream",
     "text": [
      "\r",
      "  0%|                      | 1153/1000000 [00:19<28:01:00,  9.90it/s]"
     ]
    },
    {
     "name": "stdout",
     "output_type": "stream",
     "text": [
      "update Q: 0.38327129199751653\n",
      "sample: 0.004667250002967194\n",
      "put to device: 0.00023537498782388866\n"
     ]
    },
    {
     "name": "stderr",
     "output_type": "stream",
     "text": [
      "\r",
      "  0%|                      | 1157/1000000 [00:19<28:06:08,  9.87it/s]"
     ]
    },
    {
     "name": "stdout",
     "output_type": "stream",
     "text": [
      "update Q: 0.38737216699519195\n",
      "sample: 0.004797000001417473\n",
      "put to device: 0.00023070801398716867\n"
     ]
    },
    {
     "name": "stderr",
     "output_type": "stream",
     "text": [
      "\r",
      "  0%|                      | 1161/1000000 [00:20<28:10:13,  9.85it/s]"
     ]
    },
    {
     "name": "stdout",
     "output_type": "stream",
     "text": [
      "update Q: 0.3883647079928778\n",
      "sample: 0.004998625023290515\n",
      "put to device: 0.00023654100368730724\n"
     ]
    },
    {
     "name": "stderr",
     "output_type": "stream",
     "text": [
      "\r",
      "  0%|                      | 1165/1000000 [00:20<28:04:42,  9.88it/s]"
     ]
    },
    {
     "name": "stdout",
     "output_type": "stream",
     "text": [
      "update Q: 0.37921741598984227\n",
      "sample: 0.00487504099146463\n",
      "put to device: 0.0002399170189164579\n"
     ]
    },
    {
     "name": "stderr",
     "output_type": "stream",
     "text": [
      "\r",
      "  0%|                      | 1169/1000000 [00:21<28:17:41,  9.81it/s]"
     ]
    },
    {
     "name": "stdout",
     "output_type": "stream",
     "text": [
      "update Q: 0.3940174999879673\n",
      "sample: 0.004908792005153373\n",
      "put to device: 0.00024300001678057015\n"
     ]
    },
    {
     "name": "stderr",
     "output_type": "stream",
     "text": [
      "\r",
      "  0%|                      | 1173/1000000 [00:21<28:25:05,  9.76it/s]"
     ]
    },
    {
     "name": "stdout",
     "output_type": "stream",
     "text": [
      "update Q: 0.3928618749778252\n",
      "sample: 0.005158500018296763\n",
      "put to device: 0.0002612910175230354\n"
     ]
    },
    {
     "name": "stderr",
     "output_type": "stream",
     "text": [
      "\r",
      "  0%|                      | 1177/1000000 [00:22<28:54:33,  9.60it/s]"
     ]
    },
    {
     "name": "stdout",
     "output_type": "stream",
     "text": [
      "update Q: 0.4109682079870254\n",
      "sample: 0.004994791990611702\n",
      "put to device: 0.000254459009738639\n"
     ]
    },
    {
     "name": "stderr",
     "output_type": "stream",
     "text": [
      "\r",
      "  0%|                      | 1181/1000000 [00:22<28:41:59,  9.67it/s]"
     ]
    },
    {
     "name": "stdout",
     "output_type": "stream",
     "text": [
      "update Q: 0.38509162500849925\n",
      "sample: 0.004479416995309293\n",
      "put to device: 0.00023166698520071805\n"
     ]
    },
    {
     "name": "stderr",
     "output_type": "stream",
     "text": [
      "\r",
      "  0%|                      | 1185/1000000 [00:22<28:28:18,  9.74it/s]"
     ]
    },
    {
     "name": "stdout",
     "output_type": "stream",
     "text": [
      "update Q: 0.381808790989453\n",
      "sample: 0.004874708014540374\n",
      "put to device: 0.0002749169943854213\n"
     ]
    },
    {
     "name": "stderr",
     "output_type": "stream",
     "text": [
      "\r",
      "  0%|                      | 1189/1000000 [00:23<28:28:33,  9.74it/s]"
     ]
    },
    {
     "name": "stdout",
     "output_type": "stream",
     "text": [
      "update Q: 0.38921483399462886\n",
      "sample: 0.004630832991097122\n",
      "put to device: 0.0002452080079820007\n"
     ]
    },
    {
     "name": "stderr",
     "output_type": "stream",
     "text": [
      "\r",
      "  0%|                      | 1193/1000000 [00:23<28:27:12,  9.75it/s]"
     ]
    },
    {
     "name": "stdout",
     "output_type": "stream",
     "text": [
      "update Q: 0.3867682080017403\n",
      "sample: 0.004758166003739461\n",
      "put to device: 0.00022437499137595296\n"
     ]
    },
    {
     "name": "stderr",
     "output_type": "stream",
     "text": [
      "\r",
      "  0%|                      | 1197/1000000 [00:24<28:38:30,  9.69it/s]"
     ]
    },
    {
     "name": "stdout",
     "output_type": "stream",
     "text": [
      "update Q: 0.3973773329926189\n",
      "sample: 0.004875874990830198\n",
      "put to device: 0.0002677080046851188\n"
     ]
    },
    {
     "name": "stderr",
     "output_type": "stream",
     "text": [
      "\r",
      "  0%|                      | 1201/1000000 [00:24<28:53:55,  9.60it/s]"
     ]
    },
    {
     "name": "stdout",
     "output_type": "stream",
     "text": [
      "update Q: 0.402388125017751\n",
      "sample: 0.004593874997226521\n",
      "put to device: 0.00024083300377242267\n"
     ]
    },
    {
     "name": "stderr",
     "output_type": "stream",
     "text": [
      "\r",
      "  0%|                      | 1205/1000000 [00:24<28:39:31,  9.68it/s]"
     ]
    },
    {
     "name": "stdout",
     "output_type": "stream",
     "text": [
      "update Q: 0.38263729101163335\n",
      "sample: 0.0045545830216724426\n",
      "put to device: 0.0002585829934105277\n"
     ]
    },
    {
     "name": "stderr",
     "output_type": "stream",
     "text": [
      "\r",
      "  0%|                      | 1209/1000000 [00:25<28:27:01,  9.75it/s]"
     ]
    },
    {
     "name": "stdout",
     "output_type": "stream",
     "text": [
      "update Q: 0.38087662498583086\n",
      "sample: 0.004850750003242865\n",
      "put to device: 0.00024295799084939063\n"
     ]
    },
    {
     "name": "stderr",
     "output_type": "stream",
     "text": [
      "\r",
      "  0%|                      | 1213/1000000 [00:25<28:17:43,  9.81it/s]"
     ]
    },
    {
     "name": "stdout",
     "output_type": "stream",
     "text": [
      "update Q: 0.3800620840047486\n",
      "sample: 0.0044578750093933195\n",
      "put to device: 0.0002348329871892929\n"
     ]
    },
    {
     "name": "stderr",
     "output_type": "stream",
     "text": [
      "\r",
      "  0%|                      | 1217/1000000 [00:26<28:34:29,  9.71it/s]"
     ]
    },
    {
     "name": "stdout",
     "output_type": "stream",
     "text": [
      "update Q: 0.40140487501048483\n",
      "sample: 0.004944250016706064\n",
      "put to device: 0.0002988339983858168\n"
     ]
    },
    {
     "name": "stderr",
     "output_type": "stream",
     "text": [
      "\r",
      "  0%|                      | 1221/1000000 [00:26<28:50:22,  9.62it/s]"
     ]
    },
    {
     "name": "stdout",
     "output_type": "stream",
     "text": [
      "update Q: 0.4055310410039965\n",
      "sample: 0.004680166981415823\n",
      "put to device: 0.0002831250021699816\n"
     ]
    },
    {
     "name": "stderr",
     "output_type": "stream",
     "text": [
      "\r",
      "  0%|                      | 1225/1000000 [00:26<28:47:28,  9.64it/s]"
     ]
    },
    {
     "name": "stdout",
     "output_type": "stream",
     "text": [
      "update Q: 0.39320695798960514\n",
      "sample: 0.004726749990368262\n",
      "put to device: 0.00022833398543298244\n"
     ]
    },
    {
     "name": "stderr",
     "output_type": "stream",
     "text": [
      "  0%|                       | 1228/1000000 [00:27<6:11:06, 44.86it/s]\n"
     ]
    },
    {
     "ename": "KeyboardInterrupt",
     "evalue": "",
     "output_type": "error",
     "traceback": [
      "\u001b[0;31m---------------------------------------------------------------------------\u001b[0m",
      "\u001b[0;31mKeyboardInterrupt\u001b[0m                         Traceback (most recent call last)",
      "Cell \u001b[0;32mIn [12], line 1\u001b[0m\n\u001b[0;32m----> 1\u001b[0m \u001b[43minteract\u001b[49m\u001b[43m(\u001b[49m\u001b[43menv\u001b[49m\u001b[43m,\u001b[49m\u001b[43m \u001b[49m\u001b[43magent\u001b[49m\u001b[43m,\u001b[49m\u001b[43m \u001b[49m\u001b[43mcfg\u001b[49m\u001b[43m)\u001b[49m\n",
      "File \u001b[0;32m~/research/personal/jax_learning/jax_learning/rl_utils.py:157\u001b[0m, in \u001b[0;36minteract\u001b[0;34m(env, agent, cfg)\u001b[0m\n\u001b[1;32m    153\u001b[0m render()\n\u001b[1;32m    154\u001b[0m agent\u001b[38;5;241m.\u001b[39mstore(\n\u001b[1;32m    155\u001b[0m     obs, h_state, act, rew, terminated, truncated, info, next_obs, next_h_state\n\u001b[1;32m    156\u001b[0m )\n\u001b[0;32m--> 157\u001b[0m \u001b[43magent\u001b[49m\u001b[38;5;241;43m.\u001b[39;49m\u001b[43mlearn\u001b[49m\u001b[43m(\u001b[49m\n\u001b[1;32m    158\u001b[0m \u001b[43m    \u001b[49m\u001b[43mtimestep_dict\u001b[49m\u001b[43m,\u001b[49m\u001b[43m \u001b[49m\u001b[43mepoch_summary\u001b[49m\u001b[43m,\u001b[49m\u001b[43m \u001b[49m\u001b[43mnext_obs\u001b[49m\u001b[38;5;241;43m=\u001b[39;49m\u001b[43mnext_obs\u001b[49m\u001b[43m,\u001b[49m\u001b[43m \u001b[49m\u001b[43mnext_h_state\u001b[49m\u001b[38;5;241;43m=\u001b[39;49m\u001b[43mnext_h_state\u001b[49m\n\u001b[1;32m    159\u001b[0m \u001b[43m\u001b[49m\u001b[43m)\u001b[49m\n\u001b[1;32m    161\u001b[0m obs \u001b[38;5;241m=\u001b[39m next_obs\n\u001b[1;32m    162\u001b[0m ep_return \u001b[38;5;241m+\u001b[39m\u001b[38;5;241m=\u001b[39m rew\n",
      "File \u001b[0;32m~/research/personal/jax_learning/jax_learning/agents/agents.py:106\u001b[0m, in \u001b[0;36mLearningAgent.learn\u001b[0;34m(self, learn_info, epoch_summary, **kwargs)\u001b[0m\n\u001b[1;32m    105\u001b[0m \u001b[38;5;28;01mdef\u001b[39;00m \u001b[38;5;21mlearn\u001b[39m(\u001b[38;5;28mself\u001b[39m, learn_info: \u001b[38;5;28mdict\u001b[39m, epoch_summary: EpochSummary, \u001b[38;5;241m*\u001b[39m\u001b[38;5;241m*\u001b[39mkwargs):\n\u001b[0;32m--> 106\u001b[0m     \u001b[38;5;28;43mself\u001b[39;49m\u001b[38;5;241;43m.\u001b[39;49m\u001b[43mlearner\u001b[49m\u001b[38;5;241;43m.\u001b[39;49m\u001b[43mlearn\u001b[49m\u001b[43m(\u001b[49m\u001b[43mlearn_info\u001b[49m\u001b[43m,\u001b[49m\u001b[43m \u001b[49m\u001b[43mepoch_summary\u001b[49m\u001b[43m,\u001b[49m\u001b[43m \u001b[49m\u001b[38;5;241;43m*\u001b[39;49m\u001b[38;5;241;43m*\u001b[39;49m\u001b[43mkwargs\u001b[49m\u001b[43m)\u001b[49m\n",
      "File \u001b[0;32m~/research/personal/jax_learning/jax_learning/learners/q_learning.py:198\u001b[0m, in \u001b[0;36mQLearning.learn\u001b[0;34m(self, learn_info, epoch_summary, **kwargs)\u001b[0m\n\u001b[1;32m    196\u001b[0m \u001b[38;5;28mprint\u001b[39m(\u001b[38;5;124mf\u001b[39m\u001b[38;5;124m\"\u001b[39m\u001b[38;5;124mput to device: \u001b[39m\u001b[38;5;132;01m{\u001b[39;00mtoc \u001b[38;5;241m-\u001b[39m tic\u001b[38;5;132;01m}\u001b[39;00m\u001b[38;5;124m\"\u001b[39m)\n\u001b[1;32m    197\u001b[0m tic \u001b[38;5;241m=\u001b[39m timeit\u001b[38;5;241m.\u001b[39mdefault_timer()\n\u001b[0;32m--> 198\u001b[0m q, opt_state, grads, q_learn_info \u001b[38;5;241m=\u001b[39m \u001b[38;5;28;43mself\u001b[39;49m\u001b[38;5;241;43m.\u001b[39;49m\u001b[43mupdate_q\u001b[49m\u001b[43m(\u001b[49m\n\u001b[1;32m    199\u001b[0m \u001b[43m    \u001b[49m\u001b[43mq\u001b[49m\u001b[38;5;241;43m=\u001b[39;49m\u001b[38;5;28;43mself\u001b[39;49m\u001b[38;5;241;43m.\u001b[39;49m\u001b[43mmodel\u001b[49m\u001b[43m[\u001b[49m\u001b[43mQ\u001b[49m\u001b[43m]\u001b[49m\u001b[43m,\u001b[49m\n\u001b[1;32m    200\u001b[0m \u001b[43m    \u001b[49m\u001b[43mtarget_q\u001b[49m\u001b[38;5;241;43m=\u001b[39;49m\u001b[38;5;28;43mself\u001b[39;49m\u001b[38;5;241;43m.\u001b[39;49m\u001b[43mtarget_model\u001b[49m\u001b[43m[\u001b[49m\u001b[43mQ\u001b[49m\u001b[43m]\u001b[49m\u001b[43m,\u001b[49m\n\u001b[1;32m    201\u001b[0m \u001b[43m    \u001b[49m\u001b[43mopt\u001b[49m\u001b[38;5;241;43m=\u001b[39;49m\u001b[38;5;28;43mself\u001b[39;49m\u001b[38;5;241;43m.\u001b[39;49m\u001b[43mopt\u001b[49m\u001b[43m[\u001b[49m\u001b[43mQ\u001b[49m\u001b[43m]\u001b[49m\u001b[43m,\u001b[49m\n\u001b[1;32m    202\u001b[0m \u001b[43m    \u001b[49m\u001b[43mopt_state\u001b[49m\u001b[38;5;241;43m=\u001b[39;49m\u001b[38;5;28;43mself\u001b[39;49m\u001b[38;5;241;43m.\u001b[39;49m\u001b[43mopt_state\u001b[49m\u001b[43m[\u001b[49m\u001b[43mQ\u001b[49m\u001b[43m]\u001b[49m\u001b[43m,\u001b[49m\n\u001b[1;32m    203\u001b[0m \u001b[43m    \u001b[49m\u001b[43mobss\u001b[49m\u001b[38;5;241;43m=\u001b[39;49m\u001b[43mobss\u001b[49m\u001b[43m,\u001b[49m\n\u001b[1;32m    204\u001b[0m \u001b[43m    \u001b[49m\u001b[43mh_states\u001b[49m\u001b[38;5;241;43m=\u001b[39;49m\u001b[43mh_states\u001b[49m\u001b[43m,\u001b[49m\n\u001b[1;32m    205\u001b[0m \u001b[43m    \u001b[49m\u001b[43macts\u001b[49m\u001b[38;5;241;43m=\u001b[39;49m\u001b[43macts\u001b[49m\u001b[43m,\u001b[49m\n\u001b[1;32m    206\u001b[0m \u001b[43m    \u001b[49m\u001b[43mrews\u001b[49m\u001b[38;5;241;43m=\u001b[39;49m\u001b[43mrews\u001b[49m\u001b[43m,\u001b[49m\n\u001b[1;32m    207\u001b[0m \u001b[43m    \u001b[49m\u001b[43mterminateds\u001b[49m\u001b[38;5;241;43m=\u001b[39;49m\u001b[43mterminateds\u001b[49m\u001b[43m,\u001b[49m\n\u001b[1;32m    208\u001b[0m \u001b[43m    \u001b[49m\u001b[43mnext_obss\u001b[49m\u001b[38;5;241;43m=\u001b[39;49m\u001b[43mnext_obss\u001b[49m\u001b[43m,\u001b[49m\n\u001b[1;32m    209\u001b[0m \u001b[43m    \u001b[49m\u001b[43mnext_h_states\u001b[49m\u001b[38;5;241;43m=\u001b[39;49m\u001b[43mnext_h_states\u001b[49m\u001b[43m,\u001b[49m\n\u001b[1;32m    210\u001b[0m \u001b[43m\u001b[49m\u001b[43m)\u001b[49m\n\u001b[1;32m    211\u001b[0m toc \u001b[38;5;241m=\u001b[39m timeit\u001b[38;5;241m.\u001b[39mdefault_timer()\n\u001b[1;32m    212\u001b[0m \u001b[38;5;28mprint\u001b[39m(\u001b[38;5;124mf\u001b[39m\u001b[38;5;124m\"\u001b[39m\u001b[38;5;124mupdate Q: \u001b[39m\u001b[38;5;132;01m{\u001b[39;00mtoc \u001b[38;5;241m-\u001b[39m tic\u001b[38;5;132;01m}\u001b[39;00m\u001b[38;5;124m\"\u001b[39m)\n",
      "File \u001b[0;32m~/research/personal/jax_learning/.venv/lib/python3.10/site-packages/equinox/jit.py:96\u001b[0m, in \u001b[0;36m_JitWrapper.__call__\u001b[0;34m(_JitWrapper__self, *args, **kwargs)\u001b[0m\n\u001b[1;32m     95\u001b[0m \u001b[38;5;28;01mdef\u001b[39;00m \u001b[38;5;21m__call__\u001b[39m(__self, \u001b[38;5;241m*\u001b[39margs, \u001b[38;5;241m*\u001b[39m\u001b[38;5;241m*\u001b[39mkwargs):\n\u001b[0;32m---> 96\u001b[0m     \u001b[38;5;28;01mreturn\u001b[39;00m \u001b[43m__self\u001b[49m\u001b[38;5;241;43m.\u001b[39;49m\u001b[43m_fun_wrapper\u001b[49m\u001b[43m(\u001b[49m\u001b[38;5;28;43;01mFalse\u001b[39;49;00m\u001b[43m,\u001b[49m\u001b[43m \u001b[49m\u001b[43margs\u001b[49m\u001b[43m,\u001b[49m\u001b[43m \u001b[49m\u001b[43mkwargs\u001b[49m\u001b[43m)\u001b[49m\n",
      "File \u001b[0;32m~/research/personal/jax_learning/.venv/lib/python3.10/site-packages/equinox/jit.py:92\u001b[0m, in \u001b[0;36m_JitWrapper._fun_wrapper\u001b[0;34m(self, is_lower, args, kwargs)\u001b[0m\n\u001b[1;32m     90\u001b[0m     \u001b[38;5;28;01mreturn\u001b[39;00m \u001b[38;5;28mself\u001b[39m\u001b[38;5;241m.\u001b[39m_cached\u001b[38;5;241m.\u001b[39mlower(dynamic, static)\n\u001b[1;32m     91\u001b[0m \u001b[38;5;28;01melse\u001b[39;00m:\n\u001b[0;32m---> 92\u001b[0m     dynamic_out, static_out \u001b[38;5;241m=\u001b[39m \u001b[38;5;28;43mself\u001b[39;49m\u001b[38;5;241;43m.\u001b[39;49m\u001b[43m_cached\u001b[49m\u001b[43m(\u001b[49m\u001b[43mdynamic\u001b[49m\u001b[43m,\u001b[49m\u001b[43m \u001b[49m\u001b[43mstatic\u001b[49m\u001b[43m)\u001b[49m\n\u001b[1;32m     93\u001b[0m     \u001b[38;5;28;01mreturn\u001b[39;00m combine(dynamic_out, static_out\u001b[38;5;241m.\u001b[39mvalue)\n",
      "File \u001b[0;32m~/research/personal/jax_learning/.venv/lib/python3.10/site-packages/equinox/module.py:262\u001b[0m, in \u001b[0;36mModule.tree_unflatten\u001b[0;34m(cls, aux, dynamic_field_values)\u001b[0m\n\u001b[1;32m    255\u001b[0m             dynamic_field_values\u001b[38;5;241m.\u001b[39mappend(value)\n\u001b[1;32m    256\u001b[0m     \u001b[38;5;28;01mreturn\u001b[39;00m \u001b[38;5;28mtuple\u001b[39m(dynamic_field_values), (\n\u001b[1;32m    257\u001b[0m         \u001b[38;5;28mtuple\u001b[39m(dynamic_field_names),\n\u001b[1;32m    258\u001b[0m         \u001b[38;5;28mtuple\u001b[39m(static_field_names),\n\u001b[1;32m    259\u001b[0m         \u001b[38;5;28mtuple\u001b[39m(static_field_values),\n\u001b[1;32m    260\u001b[0m     )\n\u001b[0;32m--> 262\u001b[0m \u001b[38;5;129m@classmethod\u001b[39m\n\u001b[1;32m    263\u001b[0m \u001b[38;5;28;01mdef\u001b[39;00m \u001b[38;5;21mtree_unflatten\u001b[39m(\u001b[38;5;28mcls\u001b[39m, aux, dynamic_field_values):\n\u001b[1;32m    264\u001b[0m     \u001b[38;5;28mself\u001b[39m \u001b[38;5;241m=\u001b[39m \u001b[38;5;28mcls\u001b[39m\u001b[38;5;241m.\u001b[39m\u001b[38;5;21m__new__\u001b[39m(\u001b[38;5;28mcls\u001b[39m)\n\u001b[1;32m    265\u001b[0m     dynamic_field_names, static_field_names, static_field_values \u001b[38;5;241m=\u001b[39m aux\n",
      "\u001b[0;31mKeyboardInterrupt\u001b[0m: "
     ]
    }
   ],
   "source": [
    "interact(env, agent, cfg)"
   ]
  },
  {
   "cell_type": "code",
   "execution_count": null,
   "id": "f26aa8ec",
   "metadata": {},
   "outputs": [],
   "source": [
    "wandb.finish()"
   ]
  }
 ],
 "metadata": {
  "kernelspec": {
   "display_name": "Python 3 (ipykernel)",
   "language": "python",
   "name": "python3"
  },
  "language_info": {
   "codemirror_mode": {
    "name": "ipython",
    "version": 3
   },
   "file_extension": ".py",
   "mimetype": "text/x-python",
   "name": "python",
   "nbconvert_exporter": "python",
   "pygments_lexer": "ipython3",
   "version": "3.10.8"
  },
  "vscode": {
   "interpreter": {
    "hash": "31f2aee4e71d21fbe5cf8b01ff0e069b9275f58929596ceb00d14d90e3e16cd6"
   }
  }
 },
 "nbformat": 4,
 "nbformat_minor": 5
}
