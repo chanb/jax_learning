{
 "cells": [
  {
   "cell_type": "code",
   "execution_count": null,
   "id": "bf3ba0e0",
   "metadata": {},
   "outputs": [],
   "source": [
    "import equinox as eqx\n",
    "import gym\n",
    "import jax\n",
    "import jax.numpy as jnp\n",
    "import jax.random as jrandom\n",
    "import numpy as np\n",
    "import optax\n",
    "import sys\n",
    "import timeit\n",
    "import wandb\n",
    "\n",
    "from argparse import Namespace\n",
    "from functools import partial\n",
    "from jax import grad, jit, vmap\n",
    "from typing import Sequence\n",
    "\n",
    "from jax_learning.agents.rl_agents import EpsilonGreedyAgent\n",
    "from jax_learning.buffers.ram_buffers import NextStateNumPyBuffer\n",
    "from jax_learning.buffers.utils import batch_flatten, to_jnp\n",
    "from jax_learning.common import init_wandb\n",
    "from jax_learning.constants import DISCRETE\n",
    "from jax_learning.envs.wrappers.image import HWC2CHW\n",
    "from jax_learning.learners.q_learning import QLearning\n",
    "from jax_learning.models.q_functions import SoftmaxQ, NatureQ\n",
    "from jax_learning.rl_utils import interact, evaluate"
   ]
  },
  {
   "cell_type": "code",
   "execution_count": null,
   "id": "64a46b53",
   "metadata": {},
   "outputs": [],
   "source": [
    "init_wandb(project=\"test_jax_rl\", group=\"breakout-dqn_test\", mode=\"disabled\")"
   ]
  },
  {
   "cell_type": "code",
   "execution_count": null,
   "id": "b68d3a1c",
   "metadata": {},
   "outputs": [],
   "source": [
    "cfg_dict = {\n",
    "    # Environment setup\n",
    "    \"env\": \"Breakout-v4\",\n",
    "    \"seed\": 0,\n",
    "    \"render\": False,\n",
    "    # Experiment progress\n",
    "    \"load_step\": 0,\n",
    "    \"log_interval\": 5000,\n",
    "    \"checkpoint_frequency\": 0,\n",
    "    \"save_path\": None,\n",
    "    # Learning hyperparameters\n",
    "    \"max_timesteps\": 1000000,\n",
    "    \"buffer_size\": 1000000,\n",
    "    \"buffer_warmup\": 1000,\n",
    "    \"num_gradient_steps\": 1,\n",
    "    \"batch_size\": 64,\n",
    "    \"lr\": 3e-4,\n",
    "    \"max_grad_norm\": 10.0,\n",
    "    \"gamma\": 0.99,\n",
    "    \"update_frequency\": 4,\n",
    "    \"target_update_frequency\": 1,\n",
    "    \"tau\": 0.005,  # This is for polyak averaging of target network\n",
    "    \"omega\": 1.0,  # This is for residual gradient: 1 for semi-gradient\n",
    "    # Epsilon greedy hyperparameters\n",
    "    \"init_eps\": 1.0,\n",
    "    \"min_eps\": 0.02,\n",
    "    \"eps_decay\": 0.9999,\n",
    "    \"eps_warmup\": 1000,\n",
    "    # Normalization\n",
    "    \"normalize_obs\": False,\n",
    "    \"normalize_value\": False,\n",
    "    # Model architecture\n",
    "    \"hidden_dim\": 64,\n",
    "    \"num_hidden\": 1,\n",
    "    # Evaluation\n",
    "    \"evaluation_frequency\": 5000,\n",
    "    \"eval_cfg\": {\n",
    "        \"num_episodes\": 10,\n",
    "        \"seed\": 1,\n",
    "        \"render\": True,\n",
    "    },\n",
    "}\n",
    "cfg = Namespace(**cfg_dict)\n",
    "eval_cfg = Namespace(**cfg.eval_cfg)\n",
    "wandb.config = cfg_dict"
   ]
  },
  {
   "cell_type": "code",
   "execution_count": null,
   "id": "733f2d11",
   "metadata": {},
   "outputs": [],
   "source": [
    "np.random.seed(cfg.seed)"
   ]
  },
  {
   "cell_type": "code",
   "execution_count": null,
   "id": "502213a1",
   "metadata": {
    "scrolled": false
   },
   "outputs": [],
   "source": [
    "env = gym.make(cfg.env)\n",
    "env = HWC2CHW(env, scale=255)"
   ]
  },
  {
   "cell_type": "code",
   "execution_count": null,
   "id": "82ed36ae",
   "metadata": {},
   "outputs": [],
   "source": [
    "cfg.obs_dim = env.observation_space.shape\n",
    "cfg.act_dim = (env.action_space.n,)\n",
    "cfg.action_space = DISCRETE"
   ]
  },
  {
   "cell_type": "code",
   "execution_count": null,
   "id": "8f7940a3",
   "metadata": {},
   "outputs": [],
   "source": [
    "cfg.h_state_dim = (1,)\n",
    "cfg.rew_dim = (1,)"
   ]
  },
  {
   "cell_type": "code",
   "execution_count": null,
   "id": "b8d36302",
   "metadata": {},
   "outputs": [],
   "source": [
    "cfg.buffer_rng = np.random.RandomState(cfg.seed)\n",
    "cfg.env_rng = np.random.RandomState(cfg.seed)\n",
    "cfg.agent_key, cfg.model_key = jrandom.split(jrandom.PRNGKey(cfg.seed), num=2)\n",
    "eval_cfg.env_rng = np.random.RandomState(eval_cfg.seed)\n",
    "cfg.evaluation_cfg = eval_cfg"
   ]
  },
  {
   "cell_type": "code",
   "execution_count": null,
   "id": "3a581441",
   "metadata": {},
   "outputs": [],
   "source": [
    "cfg"
   ]
  },
  {
   "cell_type": "code",
   "execution_count": null,
   "id": "8e72cdf2",
   "metadata": {
    "scrolled": false
   },
   "outputs": [],
   "source": [
    "Q = \"q\"\n",
    "\n",
    "buffer = NextStateNumPyBuffer(\n",
    "    buffer_size=cfg.buffer_size,\n",
    "    obs_dim=cfg.obs_dim,\n",
    "    h_state_dim=cfg.h_state_dim,\n",
    "    act_dim=(1,) if cfg.action_space == DISCRETE else cfg.act_dim,\n",
    "    rew_dim=cfg.rew_dim,\n",
    "    rng=cfg.buffer_rng,\n",
    ")\n",
    "\n",
    "model = {\n",
    "    Q: SoftmaxQ(\n",
    "        q_function=NatureQ(\n",
    "            in_channel=cfg.obs_dim[0],\n",
    "            height=cfg.obs_dim[1],\n",
    "            width=cfg.obs_dim[2],\n",
    "            out_dim=cfg.act_dim,\n",
    "            hidden_dim=cfg.hidden_dim,\n",
    "            num_hidden=cfg.num_hidden,\n",
    "            key=cfg.model_key,\n",
    "        )\n",
    "    ),\n",
    "}\n",
    "\n",
    "target_model = {\n",
    "    Q: SoftmaxQ(\n",
    "        q_function=NatureQ(\n",
    "            in_channel=cfg.obs_dim[0],\n",
    "            height=cfg.obs_dim[1],\n",
    "            width=cfg.obs_dim[2],\n",
    "            out_dim=cfg.act_dim,\n",
    "            hidden_dim=cfg.hidden_dim,\n",
    "            num_hidden=cfg.num_hidden,\n",
    "            key=cfg.model_key,\n",
    "        )\n",
    "    ),\n",
    "}\n",
    "\n",
    "opt_transforms = [optax.scale_by_rms(), optax.scale(-cfg.lr)]\n",
    "if cfg.max_grad_norm:\n",
    "    opt_transforms.insert(0, optax.clip_by_global_norm(cfg.max_grad_norm))\n",
    "opt = {Q: optax.chain(*opt_transforms)}\n",
    "\n",
    "learner = QLearning(\n",
    "    model=model, target_model=target_model, opt=opt, buffer=buffer, cfg=cfg\n",
    ")\n",
    "\n",
    "agent = EpsilonGreedyAgent(\n",
    "    model=model,\n",
    "    model_key=Q,\n",
    "    buffer=buffer,\n",
    "    learner=learner,\n",
    "    init_eps=cfg.init_eps,\n",
    "    min_eps=cfg.min_eps,\n",
    "    eps_decay=cfg.eps_decay,\n",
    "    eps_warmup=cfg.eps_warmup,\n",
    "    action_space=DISCRETE,\n",
    "    action_dim=cfg.act_dim[0],\n",
    "    key=cfg.agent_key,\n",
    ")"
   ]
  },
  {
   "cell_type": "code",
   "execution_count": null,
   "id": "952d3924",
   "metadata": {
    "scrolled": false
   },
   "outputs": [],
   "source": [
    "%wandb"
   ]
  },
  {
   "cell_type": "code",
   "execution_count": null,
   "id": "d00043b5",
   "metadata": {
    "scrolled": false
   },
   "outputs": [],
   "source": [
    "interact(env, agent, cfg)"
   ]
  },
  {
   "cell_type": "code",
   "execution_count": null,
   "id": "f26aa8ec",
   "metadata": {},
   "outputs": [],
   "source": [
    "wandb.finish()"
   ]
  }
 ],
 "metadata": {
  "kernelspec": {
   "display_name": "Python 3 (ipykernel)",
   "language": "python",
   "name": "python3"
  },
  "language_info": {
   "codemirror_mode": {
    "name": "ipython",
    "version": 3
   },
   "file_extension": ".py",
   "mimetype": "text/x-python",
   "name": "python",
   "nbconvert_exporter": "python",
   "pygments_lexer": "ipython3",
   "version": "3.10.8"
  },
  "vscode": {
   "interpreter": {
    "hash": "31f2aee4e71d21fbe5cf8b01ff0e069b9275f58929596ceb00d14d90e3e16cd6"
   }
  }
 },
 "nbformat": 4,
 "nbformat_minor": 5
}
