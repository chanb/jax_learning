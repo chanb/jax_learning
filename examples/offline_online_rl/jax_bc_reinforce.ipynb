{
 "cells": [
  {
   "cell_type": "code",
   "execution_count": null,
   "id": "c09311f4",
   "metadata": {},
   "outputs": [],
   "source": [
    "import equinox as eqx\n",
    "import gym\n",
    "import jax\n",
    "import jax.numpy as jnp\n",
    "import jax.random as jrandom\n",
    "import numpy as np\n",
    "import optax\n",
    "import sys\n",
    "import timeit\n",
    "import wandb\n",
    "\n",
    "from argparse import Namespace\n",
    "from functools import partial\n",
    "from jax import grad, jit, vmap\n",
    "from typing import Sequence, Tuple, Dict\n",
    "\n",
    "from jax_learning.agents.rl_agents import OfflineOnlineRLAgent\n",
    "from jax_learning.buffers.ram_buffers import NextStateNumPyBuffer\n",
    "from jax_learning.buffers.utils import batch_flatten, to_jnp\n",
    "from jax_learning.common import init_wandb\n",
    "from jax_learning.constants import DISCRETE, CONTINUOUS, OFFLINE, ONLINE\n",
    "from jax_learning.learners.behavioural_cloning import BC\n",
    "from jax_learning.learners.reinforce import REINFORCE\n",
    "from jax_learning.models.policies import MLPGaussianPolicy\n",
    "from jax_learning.rl_utils import interact, evaluate"
   ]
  },
  {
   "cell_type": "code",
   "execution_count": null,
   "id": "71b7a31c",
   "metadata": {},
   "outputs": [],
   "source": [
    "init_wandb(\n",
    "    project=\"test_jax_rl\", group=\"hopper-bc_test\", mode=\"disabled\"\n",
    ")"
   ]
  },
  {
   "cell_type": "code",
   "execution_count": null,
   "id": "d6e7b7b0",
   "metadata": {},
   "outputs": [],
   "source": [
    "cfg_dict = {\n",
    "    # Environment setup\n",
    "    \"env\": \"Hopper-v2\",\n",
    "    \"seed\": 0,\n",
    "    \"render\": False,\n",
    "    \"clip_action\": True,\n",
    "    \"max_action\": 1.0,\n",
    "    \"min_action\": -1.0,\n",
    "    # Experiment progress\n",
    "    \"log_interval\": 50000,\n",
    "    \"checkpoint_frequency\": 5000,\n",
    "    \"save_path\": None,\n",
    "    \"load_path\": None,\n",
    "    # Learning hyperparameters\n",
    "    \"max_timesteps\": 1000000,\n",
    "    \"pretrain\": {\n",
    "        \"num_updates\": 1000,\n",
    "        \"checkpoint_frequency\": 1000,\n",
    "        \"log_interval\": 1000,\n",
    "        \"evaluation_frequency\": 1000,\n",
    "    },\n",
    "    \"bc\": {\n",
    "        \"lr\": 3e-4,\n",
    "        \"batch_size\": 512,\n",
    "        \"max_grad_norm\": 10.0,\n",
    "        \"expert_buffer_path\": \"../data/hopper_medium_expert-v2.pkl\",\n",
    "    },\n",
    "    \"reinforce\": {\n",
    "        \"update_frequency\": 10000,\n",
    "        \"lr\": 1e-5,\n",
    "        \"max_grad_norm\": 10.0,\n",
    "        \"gamma\": 0.99,\n",
    "    },\n",
    "    # Normalization\n",
    "    \"normalize_obs\": False,\n",
    "    \"normalize_value\": False,\n",
    "    # Model architecture\n",
    "    \"hidden_dim\": 128,\n",
    "    \"num_hidden\": 2,\n",
    "    # Evaluation\n",
    "    \"evaluation_frequency\": 50000,\n",
    "    \"eval_cfg\": {\n",
    "        \"num_episodes\": 50,\n",
    "        \"seed\": 1,\n",
    "        \"render\": True,\n",
    "        \"clip_action\": True,\n",
    "        \"max_action\": 1.0,\n",
    "        \"min_action\": -1.0,\n",
    "    },\n",
    "}\n",
    "cfg = Namespace(**cfg_dict)\n",
    "eval_cfg = Namespace(**cfg.eval_cfg)\n",
    "wandb.config = cfg_dict"
   ]
  },
  {
   "cell_type": "code",
   "execution_count": null,
   "id": "c3a0ee32",
   "metadata": {},
   "outputs": [],
   "source": [
    "np.random.seed(cfg.seed)"
   ]
  },
  {
   "cell_type": "code",
   "execution_count": null,
   "id": "2a1f1e4f",
   "metadata": {},
   "outputs": [],
   "source": [
    "env = gym.make(cfg.env)"
   ]
  },
  {
   "cell_type": "code",
   "execution_count": null,
   "id": "b99f6eb5",
   "metadata": {},
   "outputs": [],
   "source": [
    "cfg.obs_dim = env.observation_space.shape\n",
    "cfg.act_dim = env.action_space.shape\n",
    "cfg.action_space = CONTINUOUS"
   ]
  },
  {
   "cell_type": "code",
   "execution_count": null,
   "id": "e7072ae8",
   "metadata": {},
   "outputs": [],
   "source": [
    "cfg.h_state_dim = (1,)\n",
    "cfg.rew_dim = (1,)"
   ]
  },
  {
   "cell_type": "code",
   "execution_count": null,
   "id": "341519a9",
   "metadata": {},
   "outputs": [],
   "source": [
    "cfg.buffer_rng = np.random.RandomState(cfg.seed)\n",
    "cfg.env_rng = np.random.RandomState(cfg.seed)\n",
    "cfg.agent_key, cfg.model_key = jrandom.split(jrandom.PRNGKey(cfg.seed), num=2)\n",
    "eval_cfg.env_rng = np.random.RandomState(eval_cfg.seed)\n",
    "cfg.evaluation_cfg = eval_cfg\n",
    "cfg.bc = Namespace(**cfg.bc)\n",
    "cfg.reinforce = Namespace(**cfg.reinforce)\n",
    "cfg.pretrain = Namespace(**cfg.pretrain)"
   ]
  },
  {
   "cell_type": "code",
   "execution_count": null,
   "id": "18b2f86d",
   "metadata": {},
   "outputs": [],
   "source": [
    "cfg"
   ]
  },
  {
   "cell_type": "code",
   "execution_count": null,
   "id": "b02f471e",
   "metadata": {},
   "outputs": [],
   "source": [
    "POLICY = \"policy\"\n",
    "\n",
    "bc_buffer = NextStateNumPyBuffer(\n",
    "    buffer_size=0,\n",
    "    obs_dim=cfg.obs_dim,\n",
    "    h_state_dim=cfg.h_state_dim,\n",
    "    act_dim=cfg.act_dim,\n",
    "    rew_dim=cfg.rew_dim,\n",
    "    load_buffer=cfg.bc.expert_buffer_path,\n",
    ")\n",
    "\n",
    "reinforce_buffer = NextStateNumPyBuffer(\n",
    "    buffer_size=cfg.reinforce.update_frequency,\n",
    "    obs_dim=cfg.obs_dim,\n",
    "    h_state_dim=cfg.h_state_dim,\n",
    "    act_dim=cfg.act_dim,\n",
    "    rew_dim=cfg.rew_dim,\n",
    ")\n",
    "\n",
    "model = {\n",
    "    POLICY: MLPGaussianPolicy(\n",
    "        obs_dim=cfg.obs_dim,\n",
    "        act_dim=cfg.act_dim,\n",
    "        hidden_dim=cfg.hidden_dim,\n",
    "        num_hidden=cfg.num_hidden,\n",
    "        key=cfg.model_key,\n",
    "        min_std=1e-7,\n",
    "    )\n",
    "}\n",
    "\n",
    "opt_transforms = [optax.scale_by_rms(), optax.scale(-cfg.bc.lr)]\n",
    "if cfg.bc.max_grad_norm:\n",
    "    opt_transforms.insert(0, optax.clip_by_global_norm(cfg.bc.max_grad_norm))\n",
    "bc_opt = {POLICY: optax.chain(*opt_transforms)}\n",
    "\n",
    "opt_transforms = [optax.scale_by_rms(), optax.scale(-cfg.reinforce.lr)]\n",
    "if cfg.reinforce.max_grad_norm:\n",
    "    opt_transforms.insert(0, optax.clip_by_global_norm(cfg.reinforce.max_grad_norm))\n",
    "reinforce_opt = {POLICY: optax.chain(*opt_transforms)}\n",
    "\n",
    "learners = {\n",
    "    OFFLINE: BC(model=model, opt=bc_opt, buffer=bc_buffer, cfg=cfg.bc),\n",
    "    ONLINE: REINFORCE(model=model, opt=reinforce_opt, buffer=reinforce_buffer, cfg=cfg.reinforce)\n",
    "}\n",
    "\n",
    "agent = OfflineOnlineRLAgent(\n",
    "    model=model, model_key=POLICY, buffer=reinforce_buffer, learners=learners, key=cfg.agent_key\n",
    ")"
   ]
  },
  {
   "cell_type": "code",
   "execution_count": null,
   "id": "02c774f8",
   "metadata": {
    "scrolled": false
   },
   "outputs": [],
   "source": [
    "if cfg.load_path:\n",
    "    agent.load(cfg.load_path)"
   ]
  },
  {
   "cell_type": "code",
   "execution_count": null,
   "id": "465e2229",
   "metadata": {},
   "outputs": [],
   "source": [
    "%wandb"
   ]
  },
  {
   "cell_type": "code",
   "execution_count": null,
   "id": "af255f8b",
   "metadata": {
    "scrolled": false
   },
   "outputs": [],
   "source": [
    "interact(env, agent, cfg)"
   ]
  },
  {
   "cell_type": "code",
   "execution_count": null,
   "id": "63f9e495",
   "metadata": {},
   "outputs": [],
   "source": [
    "wandb.finish()"
   ]
  }
 ],
 "metadata": {
  "kernelspec": {
   "display_name": "Python 3 (ipykernel)",
   "language": "python",
   "name": "python3"
  },
  "language_info": {
   "codemirror_mode": {
    "name": "ipython",
    "version": 3
   },
   "file_extension": ".py",
   "mimetype": "text/x-python",
   "name": "python",
   "nbconvert_exporter": "python",
   "pygments_lexer": "ipython3",
   "version": "3.10.6"
  },
  "vscode": {
   "interpreter": {
    "hash": "b0d203896f835d8f9f2391aae3594d1ca0681aaa685c73959edeafc49ea10fd8"
   }
  }
 },
 "nbformat": 4,
 "nbformat_minor": 5
}
