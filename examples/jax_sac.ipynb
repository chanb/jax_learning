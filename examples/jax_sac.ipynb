{
 "cells": [
  {
   "cell_type": "code",
   "execution_count": null,
   "id": "bf3ba0e0",
   "metadata": {},
   "outputs": [],
   "source": [
    "import equinox as eqx\n",
    "import gym\n",
    "import jax\n",
    "import jax.numpy as jnp\n",
    "import jax.random as jrandom\n",
    "import numpy as np\n",
    "import optax\n",
    "import sys\n",
    "import timeit\n",
    "import wandb\n",
    "\n",
    "from argparse import Namespace\n",
    "from functools import partial\n",
    "from jax import grad, jit, vmap\n",
    "from typing import Sequence, Tuple, Optional, Callable\n",
    "\n",
    "from jax_learning.buffers.ram_buffers import NextStateNumPyBuffer\n",
    "from jax_learning.buffers.utils import batch_flatten, to_jnp\n",
    "from jax_learning.constants import DISCRETE, CONTINUOUS\n",
    "from jax_learning.rl_utils import interact, evaluate\n",
    "\n",
    "from jax_learning.models import Policy, ActionValue, MLP, StochasticPolicy, Model\n",
    "from jax_learning.models.q_functions import MLPQ, MultiQ"
   ]
  },
  {
   "cell_type": "code",
   "execution_count": null,
   "id": "3d8ebd5d",
   "metadata": {},
   "outputs": [],
   "source": [
    "key = jrandom.PRNGKey(0)\n",
    "obs_dim, act_dim, hidden_dim, num_hidden, keys = (3,), (3,), 2, 2, jrandom.split(jrandom.PRNGKey(0))\n",
    "q_constructor = partial(MLPQ, obs_dim=obs_dim, act_dim=act_dim, hidden_dim=hidden_dim, num_hidden=num_hidden)\n",
    "model = MultiQ(q_constructor, num_qs=4, key=key)"
   ]
  },
  {
   "cell_type": "code",
   "execution_count": null,
   "id": "6e4619b3",
   "metadata": {},
   "outputs": [],
   "source": [
    "q_vals, h_states = jax.vmap(model.q_values)(np.array([[0., 1., 2.], [1., 1., 2.]]), np.array([[0., 1., 2.], [0., 1., 2.]]), np.array([[0., 1., 2.], [0., 1., 2.]]))"
   ]
  },
  {
   "cell_type": "code",
   "execution_count": null,
   "id": "e46583f1",
   "metadata": {},
   "outputs": [],
   "source": [
    "q_vals"
   ]
  },
  {
   "cell_type": "code",
   "execution_count": null,
   "id": "8c4e26a9",
   "metadata": {
    "scrolled": true
   },
   "outputs": [],
   "source": [
    "model.qs.q_function"
   ]
  },
  {
   "cell_type": "code",
   "execution_count": null,
   "id": "575a6de9",
   "metadata": {},
   "outputs": [],
   "source": [
    "from jax_learning.learners import LearnerWithTargetNetwork\n",
    "class SAC(LearnerWithTargetNetwork):\n",
    "    def __init__(self,\n",
    "                 model: eqx.Module,\n",
    "                 target_model: eqx.Module,\n",
    "                 opt: optax.GradientTransformation,\n",
    "                 buffer: ReplayBuffer,\n",
    "                 cfg: Namespace):\n",
    "        super().__init__(model, target_model, opt, buffer, cfg)\n",
    "        \n",
    "        self._step = cfg.load_step\n",
    "        self._batch_size = cfg.batch_size\n",
    "        self._num_gradient_steps = cfg.num_gradient_steps\n",
    "        self._gamma = cfg.gamma\n",
    "        \n",
    "        self._buffer_warmup = cfg.buffer_warmup\n",
    "        self._update_frequency = cfg.update_frequency\n",
    "        self._actor_update_frequency = cfg.actor_update_frequency\n",
    "        self._target_update_frequency = cfg.target_update_frequency\n",
    "        self._tau = cfg.tau\n",
    "        self._omega = cfg.omega\n"
   ]
  },
  {
   "cell_type": "code",
   "execution_count": null,
   "id": "1a4fee77",
   "metadata": {},
   "outputs": [],
   "source": [
    "params, static = eqx.partition(model, filter_spec=lambda x: isinstance(x, MLP))\n",
    "print(type(params))\n",
    "print(params)"
   ]
  },
  {
   "cell_type": "code",
   "execution_count": null,
   "id": "8a233fd0",
   "metadata": {},
   "outputs": [],
   "source": [
    "assert 0"
   ]
  },
  {
   "cell_type": "code",
   "execution_count": null,
   "id": "64a46b53",
   "metadata": {},
   "outputs": [],
   "source": [
    "wandb.init(project=\"test_jax_rl\", group=\"reacher-sac_test\")\n",
    "wandb.define_metric(\"episodic_return\", summary=\"max\")"
   ]
  },
  {
   "cell_type": "code",
   "execution_count": null,
   "id": "b68d3a1c",
   "metadata": {},
   "outputs": [],
   "source": [
    "cfg_dict = {\n",
    "    # Environment setup\n",
    "    \"env\": \"Reacher-v2\",\n",
    "    \"seed\": 0,\n",
    "    \"render\": False,\n",
    "    \n",
    "    # Experiment progress\n",
    "    \"load_step\": 0,\n",
    "    \"log_interval\": 5000,\n",
    "    \n",
    "    # Learning hyperparameters\n",
    "    \"max_timesteps\": 1000000,\n",
    "    \"buffer_size\": 1000000,\n",
    "    \"buffer_warmup\": 1000,\n",
    "    \"num_gradient_steps\": 1,\n",
    "    \"batch_size\": 64,\n",
    "    \"max_grad_norm\": 10.,\n",
    "    \"gamma\": 0.99,\n",
    "    \"update_frequency\": 4,\n",
    "    \n",
    "    # Actor\n",
    "    \"actor_lr\": 3e-4,\n",
    "    \"actor_update_frequency\": 1,\n",
    "    \n",
    "    # Critic\n",
    "    \"critic_lr\": 3e-4,\n",
    "    \"target_update_frequency\": 1,\n",
    "    \"tau\": 0.005, # This is for polyak averaging of target network\n",
    "    \n",
    "    # Temperature\n",
    "    \"alpha_lr\": 3e-4,\n",
    "    \"init_alpha\": 1.0,\n",
    "    \"target_entropy\": \"auto\",\n",
    "    \n",
    "    # Model architecture\n",
    "    \"hidden_dim\": 256,\n",
    "    \"num_hidden\": 2,\n",
    "    \n",
    "    # Evaluation\n",
    "    \"eval_cfg\": {\n",
    "        \"max_episodes\": 100,\n",
    "        \"seed\": 1,\n",
    "        \"render\": True,\n",
    "    }\n",
    "}\n",
    "cfg = Namespace(**cfg_dict)\n",
    "eval_cfg = Namespace(**cfg.eval_cfg)\n",
    "wandb.config = cfg_dict"
   ]
  },
  {
   "cell_type": "code",
   "execution_count": null,
   "id": "733f2d11",
   "metadata": {},
   "outputs": [],
   "source": [
    "np.random.seed(cfg.seed)"
   ]
  },
  {
   "cell_type": "code",
   "execution_count": null,
   "id": "502213a1",
   "metadata": {
    "scrolled": false
   },
   "outputs": [],
   "source": [
    "env = gym.make(cfg.env)"
   ]
  },
  {
   "cell_type": "code",
   "execution_count": null,
   "id": "82ed36ae",
   "metadata": {},
   "outputs": [],
   "source": [
    "cfg.obs_dim = env.observation_space.shape\n",
    "cfg.act_dim = env.action_space.shape\n",
    "cfg.action_space = CONTINUOUS"
   ]
  },
  {
   "cell_type": "code",
   "execution_count": null,
   "id": "8f7940a3",
   "metadata": {},
   "outputs": [],
   "source": [
    "cfg.h_state_dim = (1,)\n",
    "cfg.rew_dim = (1,)"
   ]
  },
  {
   "cell_type": "code",
   "execution_count": null,
   "id": "3a581441",
   "metadata": {},
   "outputs": [],
   "source": [
    "cfg"
   ]
  },
  {
   "cell_type": "code",
   "execution_count": null,
   "id": "6c05894e",
   "metadata": {},
   "outputs": [],
   "source": [
    "cfg.buffer_rng = np.random.RandomState(cfg.seed)\n",
    "cfg.env_rng = np.random.RandomState(cfg.seed)\n",
    "cfg.agent_key, cfg.model_key = jrandom.split(jrandom.PRNGKey(cfg.seed), num=2)\n",
    "eval_cfg.env_rng = np.random.RandomState(eval_cfg.seed)"
   ]
  },
  {
   "cell_type": "code",
   "execution_count": null,
   "id": "8e72cdf2",
   "metadata": {
    "scrolled": false
   },
   "outputs": [],
   "source": [
    "buffer = NextStateNumPyBuffer(\n",
    "    buffer_size=cfg.buffer_size,\n",
    "    obs_dim=cfg.obs_dim,\n",
    "    h_state_dim=cfg.h_state_dim,\n",
    "    act_dim=(1,) if cfg.action_space == DISCRETE else cfg.act_dim,\n",
    "    rew_dim=cfg.rew_dim,\n",
    "    rng=cfg.buffer_rng,\n",
    ")\n",
    "\n",
    "model = MLPSoftmaxQ(obs_dim=cfg.obs_dim,\n",
    "                    act_dim=cfg.act_dim,\n",
    "                    hidden_dim=cfg.hidden_dim,\n",
    "                    num_hidden=cfg.num_hidden,\n",
    "                    key=cfg.model_key)\n",
    "\n",
    "target_model = MLPSoftmaxQ(obs_dim=cfg.obs_dim,\n",
    "                           act_dim=cfg.act_dim,\n",
    "                           hidden_dim=cfg.hidden_dim,\n",
    "                           num_hidden=cfg.num_hidden,\n",
    "                           key=cfg.model_key)\n",
    "\n",
    "opt = optax.chain(\n",
    "    optax.clip_by_global_norm(cfg.max_grad_norm),  # Clip by the gradient by the global norm\n",
    "    optax.scale_by_adam(),  # Use the updates from adam\n",
    "    optax.scale(-1.0) # Gradient descent\n",
    ")\n",
    "\n",
    "learner = QLearning(model=model,\n",
    "                    target_model=target_model,\n",
    "                    opt=opt,\n",
    "                    buffer=buffer,\n",
    "                    cfg=cfg)\n",
    "\n",
    "agent = EpsilonGreedyAgent(model=model,\n",
    "                           buffer=buffer,\n",
    "                           learner=learner,\n",
    "                           init_eps=cfg.init_eps,\n",
    "                           min_eps=cfg.min_eps,\n",
    "                           eps_decay=cfg.eps_decay,\n",
    "                           eps_warmup=cfg.eps_warmup,\n",
    "                           key=cfg.agent_key)"
   ]
  },
  {
   "cell_type": "code",
   "execution_count": null,
   "id": "952d3924",
   "metadata": {
    "scrolled": false
   },
   "outputs": [],
   "source": [
    "%wandb"
   ]
  },
  {
   "cell_type": "code",
   "execution_count": null,
   "id": "d00043b5",
   "metadata": {
    "scrolled": false
   },
   "outputs": [],
   "source": [
    "interact(env, agent, cfg)"
   ]
  },
  {
   "cell_type": "code",
   "execution_count": null,
   "id": "32851f95",
   "metadata": {},
   "outputs": [],
   "source": [
    "evaluate(env, agent, eval_cfg)"
   ]
  },
  {
   "cell_type": "code",
   "execution_count": null,
   "id": "807a8db5",
   "metadata": {},
   "outputs": [],
   "source": [
    "assert 0"
   ]
  },
  {
   "cell_type": "code",
   "execution_count": null,
   "id": "ed46d1c5",
   "metadata": {},
   "outputs": [],
   "source": [
    "buffer"
   ]
  },
  {
   "cell_type": "code",
   "execution_count": null,
   "id": "d7794fef",
   "metadata": {},
   "outputs": [],
   "source": [
    "buffer.observations"
   ]
  },
  {
   "cell_type": "code",
   "execution_count": null,
   "id": "517a637f",
   "metadata": {},
   "outputs": [],
   "source": [
    "np.roll(buffer.next_observations, 1, axis=0)"
   ]
  },
  {
   "cell_type": "code",
   "execution_count": null,
   "id": "116971b0",
   "metadata": {},
   "outputs": [],
   "source": [
    "np.concatenate((buffer.observations - np.roll(buffer.next_observations, 1, axis=0), buffer.dones), axis=1)"
   ]
  },
  {
   "cell_type": "code",
   "execution_count": null,
   "id": "65f03ffc",
   "metadata": {},
   "outputs": [],
   "source": [
    "buffer.sample_with_next_obs(3, buffer.next_observations[19], buffer.hidden_states[0])"
   ]
  }
 ],
 "metadata": {
  "kernelspec": {
   "display_name": "Python 3 (ipykernel)",
   "language": "python",
   "name": "python3"
  },
  "language_info": {
   "codemirror_mode": {
    "name": "ipython",
    "version": 3
   },
   "file_extension": ".py",
   "mimetype": "text/x-python",
   "name": "python",
   "nbconvert_exporter": "python",
   "pygments_lexer": "ipython3",
   "version": "3.10.4"
  }
 },
 "nbformat": 4,
 "nbformat_minor": 5
}
