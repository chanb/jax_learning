{
 "cells": [
  {
   "cell_type": "code",
   "execution_count": 1,
   "id": "bce5feb7",
   "metadata": {},
   "outputs": [],
   "source": [
    "from jax_learning.buffers.ram_buffers import NumPyBuffer\n",
    "import numpy as np"
   ]
  },
  {
   "cell_type": "code",
   "execution_count": 2,
   "id": "e8646dda",
   "metadata": {},
   "outputs": [],
   "source": [
    "obs_dim = 8\n",
    "act_dim = 2\n",
    "h_state_dim = 256\n",
    "rew_dim = 1"
   ]
  },
  {
   "cell_type": "code",
   "execution_count": 3,
   "id": "f14b134b",
   "metadata": {},
   "outputs": [],
   "source": [
    "buffer = NumPyBuffer(\n",
    "    memory_size=1000,\n",
    "    obs_dim=(obs_dim,),\n",
    "    h_state_dim=(h_state_dim,),\n",
    "    act_dim=(act_dim,),\n",
    "    rew_dim=(rew_dim,),\n",
    ")"
   ]
  },
  {
   "cell_type": "code",
   "execution_count": 4,
   "id": "fd042e0e",
   "metadata": {},
   "outputs": [],
   "source": [
    "h_state = np.zeros(h_state_dim,)\n",
    "obs = np.random.rand(obs_dim)\n",
    "for ii in range(50000):\n",
    "    act = np.random.rand(act_dim)\n",
    "    rew = np.random.rand(1)\n",
    "    done = np.random.choice([0, 1], p=[0.9, 0.1])\n",
    "    \n",
    "    next_obs = np.random.rand(obs_dim)\n",
    "    buffer.push(obs, h_state, act, rew, done, {})\n",
    "    obs = next_obs"
   ]
  },
  {
   "cell_type": "code",
   "execution_count": 5,
   "id": "c779e470",
   "metadata": {},
   "outputs": [],
   "source": [
    "obss, h_states, acts, rews, dones, infos, batch_lengths, sample_idxes = buffer.sample(10)"
   ]
  },
  {
   "cell_type": "code",
   "execution_count": null,
   "id": "7f6755f3",
   "metadata": {},
   "outputs": [],
   "source": []
  }
 ],
 "metadata": {
  "kernelspec": {
   "display_name": "Python 3 (ipykernel)",
   "language": "python",
   "name": "python3"
  },
  "language_info": {
   "codemirror_mode": {
    "name": "ipython",
    "version": 3
   },
   "file_extension": ".py",
   "mimetype": "text/x-python",
   "name": "python",
   "nbconvert_exporter": "python",
   "pygments_lexer": "ipython3",
   "version": "3.10.4"
  }
 },
 "nbformat": 4,
 "nbformat_minor": 5
}
