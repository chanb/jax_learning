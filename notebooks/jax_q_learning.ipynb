{
 "cells": [
  {
   "cell_type": "code",
   "execution_count": null,
   "id": "bf3ba0e0",
   "metadata": {},
   "outputs": [],
   "source": [
    "import equinox as eqx\n",
    "import gym\n",
    "import jax\n",
    "import jax.numpy as jnp\n",
    "import jax.random as jrandom\n",
    "import numpy as np\n",
    "\n",
    "from argparse import Namespace\n",
    "from functools import partial\n",
    "from jax import grad, jit, vmap\n",
    "\n",
    "from jax_learning.buffers.ram_buffers import NextStateNumPyBuffer"
   ]
  },
  {
   "cell_type": "code",
   "execution_count": null,
   "id": "b68d3a1c",
   "metadata": {},
   "outputs": [],
   "source": [
    "cfg_dict = {\n",
    "    \"batch_size\": 128,\n",
    "    \"lr\": 3e-4,\n",
    "    \"max_timesteps\": 1000000,\n",
    "    \"memory_size\": 1000000,\n",
    "    \"env\": \"MountainCar-v0\",\n",
    "    \"seed\": 0,\n",
    "    \"init_eps\": 0.99,\n",
    "    \"min_eps\": 0.0,\n",
    "    \"eps_decay\": 0.9999,\n",
    "    \"eps_warmup\": 1000,\n",
    "    \"render\": True,\n",
    "}\n",
    "cfg = Namespace(**cfg_dict)"
   ]
  },
  {
   "cell_type": "code",
   "execution_count": null,
   "id": "502213a1",
   "metadata": {
    "scrolled": false
   },
   "outputs": [],
   "source": [
    "env = gym.make(cfg.env)"
   ]
  },
  {
   "cell_type": "code",
   "execution_count": null,
   "id": "6c684c25",
   "metadata": {},
   "outputs": [],
   "source": [
    "cfg.act_dim = (env.action_space.n, )"
   ]
  },
  {
   "cell_type": "code",
   "execution_count": null,
   "id": "967f7ba9",
   "metadata": {},
   "outputs": [],
   "source": [
    "cfg.obs_dim = env.observation_space.shape"
   ]
  },
  {
   "cell_type": "code",
   "execution_count": null,
   "id": "1cf1186b",
   "metadata": {},
   "outputs": [],
   "source": [
    "cfg.h_state_dim = (1,)\n",
    "cfg.rew_dim = (1,)"
   ]
  },
  {
   "cell_type": "code",
   "execution_count": null,
   "id": "290f8399",
   "metadata": {},
   "outputs": [],
   "source": [
    "cfg"
   ]
  },
  {
   "cell_type": "code",
   "execution_count": null,
   "id": "c89462ba",
   "metadata": {},
   "outputs": [],
   "source": [
    "cfg.buffer_rng = np.random.RandomState(cfg.seed)\n",
    "cfg.agent_key, cfg.model_key = jrandom.split(jrandom.PRNGKey(cfg.seed), num=2)"
   ]
  },
  {
   "cell_type": "code",
   "execution_count": null,
   "id": "d0cfcc11",
   "metadata": {},
   "outputs": [],
   "source": [
    "def interact(agent, buffer, cfg):\n",
    "    max_timesteps = cfg.max_timesteps\n",
    "    render = env.render if cfg.render else lambda: None\n",
    "    \n",
    "    obs = env.reset()\n",
    "    h_state = agent.reset()\n",
    "    for timestep_i in range(max_timesteps):\n",
    "        act = agent.compute_action(obs)\n",
    "        next_obs, rew, done, info = env.step(act)\n",
    "        render()\n",
    "        buffer.push(obs, h_state, act, rew, done, info, next_obs, h_state)\n",
    "        obs = next_obs"
   ]
  },
  {
   "cell_type": "code",
   "execution_count": null,
   "id": "b668ad98",
   "metadata": {},
   "outputs": [],
   "source": [
    "class LinearQ(eqx.Module):\n",
    "    _obs_dim: int\n",
    "    _act_dim: int\n",
    "    linear: eqx.nn.Linear\n",
    "    bias: jnp.ndarray\n",
    "\n",
    "    def __init__(self, obs_dim, act_dim, key):\n",
    "        self._obs_dim = int(np.product(obs_dim))\n",
    "        self._act_dim = int(np.product(act_dim))\n",
    "        self.linear = eqx.nn.Linear(self._obs_dim, self._act_dim, use_bias=False, key=key)\n",
    "        self.bias = jnp.zeros(self._act_dim)\n",
    "\n",
    "    def q_values(self, input):\n",
    "        return self.linear(input) + self.bias\n",
    "    \n",
    "    def greedy_action(self, input):\n",
    "        q_val = self.q_values(input)\n",
    "        return jnp.argmax(q_val, axis=-1)\n",
    "    \n",
    "    def random_action(self, input, key):\n",
    "        q_val = self.q_values(input)\n",
    "        return jrandom.categorical(key=key, logits=q_val, axis=-1)"
   ]
  },
  {
   "cell_type": "code",
   "execution_count": null,
   "id": "262bce55",
   "metadata": {},
   "outputs": [],
   "source": [
    "class EpsilonGreedyAgent:\n",
    "    def __init__(self, model, init_eps, min_eps, eps_decay, eps_warmup, key):\n",
    "        self._model = model\n",
    "        self._eps = init_eps\n",
    "        self._init_eps = init_eps\n",
    "        self._min_eps = min_eps\n",
    "        self._eps_decay = eps_decay\n",
    "        self._eps_warmup = eps_warmup\n",
    "        self._key = key\n",
    "\n",
    "    @property\n",
    "    def model(self):\n",
    "        return self._model\n",
    "        \n",
    "    def greedy_action(self, obs):\n",
    "        return np.asarray(self.model.greedy_action(obs))\n",
    "        \n",
    "    def compute_action(self, obs, overwrite_rng_key=True):\n",
    "        new_key, curr_key = jrandom.split(self._key)\n",
    "        if jrandom.bernoulli(key=curr_key, p=self._eps):\n",
    "            action = self.model.random_action(obs, curr_key)\n",
    "        else:\n",
    "            action = self.model.greedy_action(obs)\n",
    "\n",
    "        if overwrite_rng_key:\n",
    "            self._key = new_key\n",
    "            if self._eps_warmup > 0:\n",
    "                self._eps_warmup -= 1\n",
    "            else:\n",
    "                self._eps = max(self._eps * self._eps_decay, self._min_eps)\n",
    "\n",
    "        return np.asarray(action)\n",
    "    \n",
    "    def reset(self):\n",
    "        return np.array([np.nan], dtype=np.float32)"
   ]
  },
  {
   "cell_type": "code",
   "execution_count": null,
   "id": "0b4d8435",
   "metadata": {},
   "outputs": [],
   "source": [
    "model = LinearQ(obs_dim=cfg.obs_dim,\n",
    "                act_dim=cfg.act_dim,\n",
    "                key=cfg.model_key)\n",
    "agent = EpsilonGreedyAgent(model=model,\n",
    "                           init_eps=cfg.init_eps,\n",
    "                           min_eps=cfg.min_eps,\n",
    "                           eps_decay=cfg.eps_decay,\n",
    "                           eps_warmup=cfg.eps_warmup,\n",
    "                           key=cfg.agent_key)\n",
    "buffer = NextStateNumPyBuffer(\n",
    "    memory_size=cfg.memory_size,\n",
    "    obs_dim=cfg.obs_dim,\n",
    "    h_state_dim=cfg.h_state_dim,\n",
    "    act_dim=cfg.act_dim,\n",
    "    rew_dim=cfg.rew_dim,\n",
    "    rng=cfg.buffer_rng,\n",
    ")"
   ]
  },
  {
   "cell_type": "code",
   "execution_count": null,
   "id": "30d2a74d",
   "metadata": {},
   "outputs": [],
   "source": [
    "interact(agent, buffer, cfg)"
   ]
  },
  {
   "cell_type": "code",
   "execution_count": null,
   "id": "e29e6dac",
   "metadata": {},
   "outputs": [],
   "source": [
    "assert 0"
   ]
  },
  {
   "cell_type": "markdown",
   "id": "36485770",
   "metadata": {},
   "source": [
    "# Testing JAX"
   ]
  },
  {
   "cell_type": "code",
   "execution_count": null,
   "id": "04851255",
   "metadata": {
    "scrolled": true
   },
   "outputs": [],
   "source": [
    "import jax\n",
    "import jax.numpy as jnp\n",
    "\n",
    "def selu(x, alpha=1.67, lambda_=1.05):\n",
    "  return lambda_ * jnp.where(x > 0, x, alpha * jnp.exp(x) - alpha)\n",
    "\n",
    "x = jnp.arange(1000000)\n",
    "%timeit selu(x).block_until_ready()\n"
   ]
  },
  {
   "cell_type": "code",
   "execution_count": null,
   "id": "c4c67435",
   "metadata": {},
   "outputs": [],
   "source": [
    "selu_jit = jax.jit(selu)\n",
    "\n",
    "# Warm up\n",
    "selu_jit(x).block_until_ready()\n",
    "\n",
    "%timeit selu_jit(x).block_until_ready()"
   ]
  },
  {
   "cell_type": "code",
   "execution_count": null,
   "id": "a0d9bf39",
   "metadata": {},
   "outputs": [],
   "source": [
    "x_np = np.arange(1000000)\n",
    "%timeit selu_jit(x_np).block_until_ready()"
   ]
  },
  {
   "cell_type": "code",
   "execution_count": null,
   "id": "6fa2578d",
   "metadata": {},
   "outputs": [],
   "source": [
    "@partial(jax.jit, static_argnames=('n'))\n",
    "def g(x, n):\n",
    "  i = 0\n",
    "  while i < n:\n",
    "    i += 1\n",
    "  return x + i\n",
    "\n",
    "g(10, 20)  # Should raise an error."
   ]
  },
  {
   "cell_type": "code",
   "execution_count": null,
   "id": "814ae8ff",
   "metadata": {},
   "outputs": [],
   "source": [
    "import equinox as eqx\n",
    "import jax\n",
    "import jax.nn as jnn\n",
    "import jax.numpy as jnp\n",
    "import jax.random as jrandom\n",
    "\n",
    "class MyModule(eqx.Module):\n",
    "    # Specify the module's attributes;\n",
    "    layers: list\n",
    "    bias: jnp.ndarray\n",
    "\n",
    "    # And how to initialise them;\n",
    "    def __init__(self, key):\n",
    "        key1, key2 = jrandom.split(key)\n",
    "        self.layers = [eqx.nn.Linear(2, 8, key=key1),\n",
    "                       eqx.nn.Linear(8, 2, key=key2)]\n",
    "        self.bias = jnp.ones(2)\n",
    "\n",
    "    # And the forward pass of the model.\n",
    "    def __call__(self, x):\n",
    "        for layer in self.layers[:-1]:\n",
    "            x = jnn.relu(layer(x))\n",
    "        return self.layers[-1](x) + self.bias\n",
    "\n",
    "@jax.jit\n",
    "@jax.grad\n",
    "def loss(model, x, y):\n",
    "    pred_y = jax.vmap(model)(x)\n",
    "    return jnp.mean((y - pred_y) ** 2)\n",
    "\n",
    "x_key, y_key, model_key = jrandom.split(jrandom.PRNGKey(0), 3)\n",
    "x, y = jrandom.normal(x_key, (100, 2)), jrandom.normal(y_key, (100, 2))\n",
    "model = MyModule(model_key)\n",
    "grads = loss(model, x, y)"
   ]
  },
  {
   "cell_type": "code",
   "execution_count": null,
   "id": "49204751",
   "metadata": {},
   "outputs": [],
   "source": []
  }
 ],
 "metadata": {
  "kernelspec": {
   "display_name": "Python 3 (ipykernel)",
   "language": "python",
   "name": "python3"
  },
  "language_info": {
   "codemirror_mode": {
    "name": "ipython",
    "version": 3
   },
   "file_extension": ".py",
   "mimetype": "text/x-python",
   "name": "python",
   "nbconvert_exporter": "python",
   "pygments_lexer": "ipython3",
   "version": "3.10.4"
  }
 },
 "nbformat": 4,
 "nbformat_minor": 5
}
