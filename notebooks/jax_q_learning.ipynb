{
 "cells": [
  {
   "cell_type": "code",
   "execution_count": 1,
   "id": "bf3ba0e0",
   "metadata": {},
   "outputs": [],
   "source": [
    "import equinox as eqx\n",
    "import gym\n",
    "import jax\n",
    "import jax.numpy as jnp\n",
    "import jax.random as jrandom\n",
    "import numpy as np\n",
    "import optax\n",
    "import timeit\n",
    "import wandb\n",
    "\n",
    "from argparse import Namespace\n",
    "from functools import partial\n",
    "from jax import grad, jit, vmap\n",
    "from typing import Sequence\n",
    "\n",
    "from jax_learning.buffers.ram_buffers import NextStateNumPyBuffer\n",
    "from jax_learning.buffers.utils import batch_flatten, to_jnp"
   ]
  },
  {
   "cell_type": "code",
   "execution_count": 2,
   "id": "bae6d001",
   "metadata": {},
   "outputs": [
    {
     "name": "stderr",
     "output_type": "stream",
     "text": [
      "/Users/chanb/work/personal_research/jax_learning/.venv/lib/python3.10/site-packages/notebook/utils.py:280: DeprecationWarning: distutils Version classes are deprecated. Use packaging.version instead.\n",
      "  return LooseVersion(v) >= LooseVersion(check)\n",
      "\u001b[34m\u001b[1mwandb\u001b[0m: Currently logged in as: \u001b[33mchanb\u001b[0m. Use \u001b[1m`wandb login --relogin`\u001b[0m to force relogin\n",
      "/Users/chanb/work/personal_research/jax_learning/.venv/lib/python3.10/site-packages/wandb/sdk/lib/ipython.py:47: DeprecationWarning: Importing display from IPython.core.display is deprecated since IPython 7.14, please import from IPython display\n",
      "  from IPython.core.display import display, HTML  # type: ignore\n"
     ]
    },
    {
     "data": {
      "text/html": [
       "Tracking run with wandb version 0.12.18"
      ],
      "text/plain": [
       "<IPython.core.display.HTML object>"
      ]
     },
     "metadata": {},
     "output_type": "display_data"
    },
    {
     "data": {
      "text/html": [
       "Run data is saved locally in <code>/Users/chanb/work/personal_research/jax_learning/notebooks/wandb/run-20220621_010157-4zs4lwju</code>"
      ],
      "text/plain": [
       "<IPython.core.display.HTML object>"
      ]
     },
     "metadata": {},
     "output_type": "display_data"
    },
    {
     "data": {
      "text/html": [
       "Syncing run <strong><a href=\"https://wandb.ai/chanb/test_jax_rl/runs/4zs4lwju\" target=\"_blank\">bright-wood-37</a></strong> to <a href=\"https://wandb.ai/chanb/test_jax_rl\" target=\"_blank\">Weights & Biases</a> (<a href=\"https://wandb.me/run\" target=\"_blank\">docs</a>)<br/>"
      ],
      "text/plain": [
       "<IPython.core.display.HTML object>"
      ]
     },
     "metadata": {},
     "output_type": "display_data"
    },
    {
     "data": {
      "text/html": [
       "<button onClick=\"this.nextSibling.style.display='block';this.style.display='none';\">Display W&B run</button><iframe src=\"https://wandb.ai/chanb/test_jax_rl/runs/4zs4lwju?jupyter=true\" style=\"border:none;width:100%;height:420px;display:none;\"></iframe>"
      ],
      "text/plain": [
       "<wandb.sdk.wandb_run.Run at 0x1268dd660>"
      ]
     },
     "execution_count": 2,
     "metadata": {},
     "output_type": "execute_result"
    }
   ],
   "source": [
    "wandb.init(project=\"test_jax_rl\")"
   ]
  },
  {
   "cell_type": "code",
   "execution_count": 3,
   "id": "b68d3a1c",
   "metadata": {},
   "outputs": [],
   "source": [
    "cfg_dict = {\n",
    "    # Environment setup\n",
    "    \"env\": \"MountainCar-v0\",\n",
    "    \"seed\": 0,\n",
    "    \"render\": False,\n",
    "    \n",
    "    # Experiment progress\n",
    "    \"load_step\": 0,\n",
    "    \"log_interval\": 5000,\n",
    "    \n",
    "    # Learning hyperparameters\n",
    "    \"max_timesteps\": 1000000,\n",
    "    \"buffer_size\": 1000000,\n",
    "    \"buffer_warmup\": 1000,\n",
    "    \"num_gradient_steps\": 1,\n",
    "    \"batch_size\": 256,\n",
    "    \"lr\": 3e-2,\n",
    "    \"gamma\": 0.99,\n",
    "    \"tau\": 0.005,\n",
    "    \n",
    "    # Epsilon greedy hyperparameters\n",
    "    \"init_eps\": 0.9999,\n",
    "    \"min_eps\": 0.0,\n",
    "    \"eps_decay\": 0.9999,\n",
    "    \"eps_warmup\": 1000,\n",
    "    \n",
    "    # Model architecture\n",
    "    \"hidden_dim\": 256,\n",
    "    \"num_hidden\": 2,\n",
    "}\n",
    "cfg = Namespace(**cfg_dict)\n",
    "wandb.config = cfg_dict"
   ]
  },
  {
   "cell_type": "code",
   "execution_count": 4,
   "id": "502213a1",
   "metadata": {
    "scrolled": false
   },
   "outputs": [
    {
     "name": "stderr",
     "output_type": "stream",
     "text": [
      "/Users/chanb/work/personal_research/jax_learning/.venv/lib/python3.10/site-packages/gym/utils/passive_env_checker.py:97: UserWarning: \u001b[33mWARN: We recommend you to use a symmetric and normalized Box action space (range=[-1, 1]) https://stable-baselines3.readthedocs.io/en/master/guide/rl_tips.html\u001b[0m\n",
      "  logger.warn(\n",
      "/Users/chanb/work/personal_research/jax_learning/.venv/lib/python3.10/site-packages/gym/core.py:200: DeprecationWarning: \u001b[33mWARN: Function `env.seed(seed)` is marked as deprecated and will be removed in the future. Please use `env.reset(seed=seed)` instead.\u001b[0m\n",
      "  deprecation(\n"
     ]
    },
    {
     "data": {
      "text/plain": [
       "[0]"
      ]
     },
     "execution_count": 4,
     "metadata": {},
     "output_type": "execute_result"
    }
   ],
   "source": [
    "env = gym.make(cfg.env)\n",
    "env.seed(cfg.seed)"
   ]
  },
  {
   "cell_type": "code",
   "execution_count": 5,
   "id": "73843d71",
   "metadata": {},
   "outputs": [],
   "source": [
    "cfg.obs_dim = env.observation_space.shape\n",
    "cfg.act_dim = (env.action_space.n,)\n",
    "cfg.action_space = \"discrete\""
   ]
  },
  {
   "cell_type": "code",
   "execution_count": 6,
   "id": "c34e8de3",
   "metadata": {},
   "outputs": [],
   "source": [
    "cfg.h_state_dim = (1,)\n",
    "cfg.rew_dim = (1,)"
   ]
  },
  {
   "cell_type": "code",
   "execution_count": 7,
   "id": "c0940115",
   "metadata": {},
   "outputs": [
    {
     "data": {
      "text/plain": [
       "Namespace(env='MountainCar-v0', seed=0, render=False, load_step=0, log_interval=5000, max_timesteps=1000000, buffer_size=1000000, buffer_warmup=1000, num_gradient_steps=1, batch_size=256, lr=0.03, gamma=0.99, tau=0.005, init_eps=0.9999, min_eps=0.0, eps_decay=0.9999, eps_warmup=1000, hidden_dim=256, num_hidden=2, obs_dim=(2,), act_dim=(3,), action_space='discrete', h_state_dim=(1,), rew_dim=(1,))"
      ]
     },
     "execution_count": 7,
     "metadata": {},
     "output_type": "execute_result"
    }
   ],
   "source": [
    "cfg"
   ]
  },
  {
   "cell_type": "code",
   "execution_count": 8,
   "id": "7b916ecd",
   "metadata": {},
   "outputs": [
    {
     "name": "stderr",
     "output_type": "stream",
     "text": [
      "WARNING:absl:No GPU/TPU found, falling back to CPU. (Set TF_CPP_MIN_LOG_LEVEL=0 and rerun for more info.)\n"
     ]
    }
   ],
   "source": [
    "cfg.buffer_rng = np.random.RandomState(cfg.seed)\n",
    "cfg.agent_key, cfg.model_key = jrandom.split(jrandom.PRNGKey(cfg.seed), num=2)"
   ]
  },
  {
   "cell_type": "code",
   "execution_count": 9,
   "id": "006912b5",
   "metadata": {},
   "outputs": [],
   "source": [
    "def interact(agent, buffer, cfg):\n",
    "    max_timesteps = cfg.max_timesteps\n",
    "    log_interval = cfg.log_interval\n",
    "    render = env.render if cfg.render else lambda: None\n",
    "    \n",
    "    obs = env.reset()\n",
    "    h_state = agent.reset()\n",
    "    ep_return = 0.\n",
    "    ep_i = 0\n",
    "    tic = timeit.default_timer()\n",
    "    for timestep_i in range(max_timesteps):\n",
    "        timestep_dict = {\n",
    "            \"timestep\": timestep_i\n",
    "        }\n",
    "        act, next_h_state = agent.compute_action(obs, h_state)\n",
    "        # TODO: Action repeat for simpler environment for now\n",
    "        curr_rew = 0.\n",
    "        for _ in range(1):\n",
    "            next_obs, rew, done, info = env.step(act)\n",
    "            curr_rew += rew\n",
    "            if done:\n",
    "                break\n",
    "        rew = curr_rew\n",
    "        render()\n",
    "        buffer.push(obs, h_state, act, rew, done, info, next_obs, next_h_state)\n",
    "        agent.learner.update(next_obs, next_h_state, timestep_dict)\n",
    "        obs = next_obs\n",
    "        ep_return += rew\n",
    "        \n",
    "        if done:\n",
    "            obs = env.reset()\n",
    "            h_state = agent.reset()\n",
    "            timestep_dict[\"episodic_return\"] = ep_return\n",
    "            timestep_dict[\"episode\"] = ep_i\n",
    "            ep_return = 0.\n",
    "            ep_i += 1\n",
    "            \n",
    "        if (timestep_i + 1) % log_interval == 0:\n",
    "            toc = timeit.default_timer()\n",
    "            timestep_dict[\"time_diff\"] = toc - tic\n",
    "            tic = timeit.default_timer()\n",
    "            \n",
    "        wandb.log(timestep_dict)"
   ]
  },
  {
   "cell_type": "code",
   "execution_count": 10,
   "id": "b05b34b7",
   "metadata": {},
   "outputs": [],
   "source": [
    "class ParameterizedSoftmaxQ(eqx.Module):\n",
    "    obs_dim: int\n",
    "    act_dim: int\n",
    "\n",
    "    def __init__(self, obs_dim, act_dim):\n",
    "        self.obs_dim = int(np.product(obs_dim))\n",
    "        self.act_dim = int(np.product(act_dim))\n",
    "\n",
    "    def greedy_action(self, obs, h_state):\n",
    "        q_val, h_state = self.q_values(obs, h_state)\n",
    "        acts = jnp.argmax(q_val, axis=-1)\n",
    "        return acts, q_val[acts].reshape((1,)), h_state\n",
    "    \n",
    "    def random_action(self, obs, h_state, key):\n",
    "        q_val, h_state = self.q_values(obs, h_state)\n",
    "        acts = jrandom.categorical(key=key, logits=q_val, axis=-1)\n",
    "        return acts, q_val[acts].reshape((1,)), h_state\n",
    "    \n",
    "\n",
    "class LinearQ(ParameterizedSoftmaxQ):\n",
    "    linear: eqx.nn.Linear\n",
    "    bias: jnp.ndarray\n",
    "\n",
    "    def __init__(self, obs_dim, act_dim, key):\n",
    "        super().__init__(obs_dim, act_dim)\n",
    "        self.linear = eqx.nn.Linear(self.obs_dim, self.act_dim, use_bias=False, key=key)\n",
    "        self.bias = jnp.zeros(self.act_dim)\n",
    "\n",
    "    def q_values(self, obs, h_state):\n",
    "        return self.linear(obs) + self.bias, h_state\n",
    "    \n",
    "\n",
    "class MLPQ(ParameterizedSoftmaxQ):\n",
    "    weights: Sequence[eqx.nn.Linear]\n",
    "    biases: Sequence[jnp.ndarray]\n",
    "\n",
    "    @property\n",
    "    def num_hidden(self):\n",
    "        return len(self.weights) - 1\n",
    "\n",
    "    def __init__(self, obs_dim, act_dim, hidden_dim, num_hidden, key):\n",
    "        super().__init__(obs_dim, act_dim)\n",
    "        self.weights = [eqx.nn.Linear(self.obs_dim, hidden_dim, use_bias=False, key=key)]\n",
    "        self.biases = [jnp.zeros(hidden_dim)]\n",
    "        for _ in range(num_hidden - 1):\n",
    "            key, _ = jrandom.split(key, num=2)\n",
    "            self.weights.append(eqx.nn.Linear(hidden_dim, hidden_dim, use_bias=False, key=key))\n",
    "            self.biases.append(jnp.zeros(hidden_dim))\n",
    "            \n",
    "        key, _ = jrandom.split(key, num=2)\n",
    "        self.weights.append(eqx.nn.Linear(hidden_dim, self.act_dim, use_bias=False, key=key))\n",
    "        self.biases.append(jnp.zeros(self.act_dim))\n",
    "\n",
    "    def q_values(self, obs, h_state):\n",
    "        x = obs\n",
    "        for layer_i in range(self.num_hidden):\n",
    "            x = jax.nn.relu(self.weights[layer_i](x) + self.biases[layer_i])\n",
    "        x = self.weights[-1](x) + self.biases[-1]\n",
    "        return x, h_state"
   ]
  },
  {
   "cell_type": "code",
   "execution_count": 11,
   "id": "fb7a26fd",
   "metadata": {},
   "outputs": [],
   "source": [
    "class EpsilonGreedyAgent:\n",
    "    def __init__(self, model, learner, init_eps, min_eps, eps_decay, eps_warmup, key):\n",
    "        self._model = model\n",
    "        self._learner = learner\n",
    "        self._eps = init_eps\n",
    "        self._init_eps = init_eps\n",
    "        self._min_eps = min_eps\n",
    "        self._eps_decay = eps_decay\n",
    "        self._eps_warmup = eps_warmup\n",
    "        self._key = key\n",
    "\n",
    "    @property\n",
    "    def model(self):\n",
    "        return self._model\n",
    "        \n",
    "    @property\n",
    "    def learner(self):\n",
    "        return self._learner\n",
    "        \n",
    "    def greedy_action(self, obs, h_state):\n",
    "        action, val, next_h_state = self.model.greedy_action(obs, h_state)\n",
    "        return np.asarray(action), np.asarray(next_h_state)\n",
    "        \n",
    "    def compute_action(self, obs, h_state, overwrite_rng_key=True):\n",
    "        new_key, curr_key = jrandom.split(self._key)\n",
    "        if jrandom.bernoulli(key=curr_key, p=self._eps):\n",
    "            val, next_h_state = self.model.q_values(obs, h_state)\n",
    "            action = jrandom.randint(curr_key, shape=(1,), minval=0, maxval=val.shape[-1]).item()\n",
    "        else:\n",
    "            action, val, next_h_state = self.model.greedy_action(obs, h_state)\n",
    "\n",
    "        if overwrite_rng_key:\n",
    "            self._key = new_key\n",
    "            if self._eps_warmup > 0:\n",
    "                self._eps_warmup -= 1\n",
    "            else:\n",
    "                self._eps = max(self._eps * self._eps_decay, self._min_eps)\n",
    "\n",
    "        return np.asarray(action), np.asarray(next_h_state)\n",
    "    \n",
    "    def reset(self):\n",
    "        if hasattr(self.model, \"reset\"):\n",
    "            return self.model.reset()\n",
    "        return np.array([0.], dtype=np.float32)"
   ]
  },
  {
   "cell_type": "code",
   "execution_count": 12,
   "id": "0ff5fc27",
   "metadata": {},
   "outputs": [],
   "source": [
    "@eqx.filter_grad(has_aux=True)\n",
    "def compute_one_step_td_loss(model, obss, h_states, acts, targets):\n",
    "    curr_q_values, _ = jax.vmap(model.q_values)(obss, h_states)\n",
    "    loss = jnp.mean((jnp.sum(curr_q_values * acts, axis=-1, keepdims=True) - targets) ** 2)\n",
    "    return loss, {\n",
    "        \"loss\": loss,\n",
    "        \"max_target\": jnp.max(targets),\n",
    "        \"min_target\": jnp.min(targets),\n",
    "        \"mean_target\": jnp.mean(targets),\n",
    "        \"max_q\": jnp.max(curr_q_values),\n",
    "        \"min_q\": jnp.min(curr_q_values),\n",
    "        \"mean_q\": jnp.mean(curr_q_values),\n",
    "    }\n",
    "\n",
    "@eqx.filter_jit\n",
    "def make_step(model, target_model, opt, opt_state, obss, h_states, acts, rews, dones, next_obss, next_h_states, gamma):\n",
    "    _, next_q_values, _ = jax.vmap(target_model.greedy_action)(next_obss, next_h_states)\n",
    "    targets = rews + (1 - dones) * (gamma * next_q_values)\n",
    "    \n",
    "    grads, update_info = compute_one_step_td_loss(model,\n",
    "                                                  obss,\n",
    "                                                  h_states,\n",
    "                                                  acts,\n",
    "                                                  targets)\n",
    "    updates, opt_state = opt.update(grads, opt_state)\n",
    "    model = eqx.apply_updates(model, updates)\n",
    "    return model, opt_state, grads, update_info\n",
    "\n",
    "\n",
    "class QLearning:\n",
    "    def __init__(self, model, target_model, opt, buffer, cfg):\n",
    "        self._model = model\n",
    "        self._target_model = target_model\n",
    "        self._opt = opt\n",
    "        self._opt_state = self._opt.init(model)\n",
    "        self._buffer = buffer\n",
    "        self._cfg = cfg\n",
    "        \n",
    "        self._step = cfg.load_step\n",
    "        \n",
    "        self._batch_size = cfg.batch_size\n",
    "        self._buffer_warmup = cfg.buffer_warmup\n",
    "        self._num_gradient_steps = cfg.num_gradient_steps\n",
    "        self._gamma = cfg.gamma\n",
    "        self._tau = cfg.tau\n",
    "\n",
    "    @property\n",
    "    def model(self):\n",
    "        return self._model\n",
    "    \n",
    "    @property\n",
    "    def target_model(self):\n",
    "        return self._target_model\n",
    "        \n",
    "    @property\n",
    "    def buffer(self):\n",
    "        return self._buffer\n",
    "    \n",
    "    @property\n",
    "    def opt(self):\n",
    "        return self._opt\n",
    "    \n",
    "    @property\n",
    "    def opt_state(self):\n",
    "        return self._opt_state\n",
    "        \n",
    "    def update(self, next_obs, next_h_state, update_info):\n",
    "        self._step += 1\n",
    "        \n",
    "        if self._step <= self._buffer_warmup:\n",
    "            return\n",
    "\n",
    "        update_info[\"mean_loss\"] = 0.\n",
    "        update_info[\"mean_q\"] = 0.\n",
    "        update_info[\"mean_target\"] = 0.\n",
    "        update_info[\"max_q\"] = -np.inf\n",
    "        update_info[\"max_target\"] = -np.inf\n",
    "        update_info[\"min_q\"] = np.inf\n",
    "        update_info[\"min_target\"] = np.inf\n",
    "        for update_i in range(self._num_gradient_steps):\n",
    "            obss, h_states, acts, rews, dones, next_obss, next_h_states, _, _, _ = self.buffer.sample_with_next_obs(batch_size=self._batch_size,\n",
    "                                                                                                                    next_obs=next_obs,\n",
    "                                                                                                                    next_h_state=next_h_state)\n",
    "\n",
    "            acts = np.eye(self.model.act_dim)[acts.astype(np.int64)]\n",
    "            \n",
    "            (obss, h_states, acts, rews, dones, next_obss, next_h_states) = to_jnp(*batch_flatten(obss,\n",
    "                                                                                                  h_states,\n",
    "                                                                                                  acts,\n",
    "                                                                                                  rews,\n",
    "                                                                                                  dones,\n",
    "                                                                                                  next_obss,\n",
    "                                                                                                  next_h_states))\n",
    "            model, opt_state, grads, curr_update_info = make_step(model=self.model,\n",
    "                                                                  target_model=self.target_model,\n",
    "                                                                  opt=self.opt,\n",
    "                                                                  opt_state=self.opt_state,\n",
    "                                                                  obss=obss,\n",
    "                                                                  h_states=h_states,\n",
    "                                                                  acts=acts,\n",
    "                                                                  rews=rews,\n",
    "                                                                  dones=dones,\n",
    "                                                                  next_obss=next_obss,\n",
    "                                                                  next_h_states=next_h_states,\n",
    "                                                                  gamma=self._gamma)\n",
    "            self._model = model\n",
    "            self._opt_state = opt_state\n",
    "            \n",
    "            self._target_model = jax.tree_map(lambda p, tp: p * self._tau + tp * (1 - self._tau),\n",
    "                                              self.model,\n",
    "                                              self.target_model,)\n",
    "            \n",
    "            update_info[\"mean_loss\"] += curr_update_info[\"loss\"].item() / self._num_gradient_steps\n",
    "            update_info[\"mean_q\"] += curr_update_info[\"mean_q\"].item() / self._num_gradient_steps\n",
    "            update_info[\"mean_target\"] += curr_update_info[\"mean_target\"].item() / self._num_gradient_steps\n",
    "            update_info[\"max_q\"] = max(update_info[\"max_q\"], curr_update_info[\"max_q\"].item())\n",
    "            update_info[\"max_target\"] = max(update_info[\"max_target\"], curr_update_info[\"max_target\"].item())\n",
    "            update_info[\"min_q\"] = min(update_info[\"min_q\"], curr_update_info[\"min_q\"].item())\n",
    "            update_info[\"min_target\"] = min(update_info[\"min_target\"], curr_update_info[\"min_target\"].item())"
   ]
  },
  {
   "cell_type": "code",
   "execution_count": 13,
   "id": "415e7a4e",
   "metadata": {
    "scrolled": false
   },
   "outputs": [],
   "source": [
    "buffer = NextStateNumPyBuffer(\n",
    "    buffer_size=cfg.buffer_size,\n",
    "    obs_dim=cfg.obs_dim,\n",
    "    h_state_dim=cfg.h_state_dim,\n",
    "    act_dim=(1,) if cfg.action_space == \"discrete\" else cfg.act_dim,\n",
    "    rew_dim=cfg.rew_dim,\n",
    "    rng=cfg.buffer_rng,\n",
    ")\n",
    "\n",
    "model = MLPQ(obs_dim=cfg.obs_dim,\n",
    "                act_dim=cfg.act_dim,\n",
    "                hidden_dim=cfg.hidden_dim,\n",
    "                num_hidden=cfg.num_hidden,\n",
    "                key=cfg.model_key)\n",
    "\n",
    "target_model = MLPQ(obs_dim=cfg.obs_dim,\n",
    "                    act_dim=cfg.act_dim,\n",
    "                    hidden_dim=cfg.hidden_dim,\n",
    "                    num_hidden=cfg.num_hidden,\n",
    "                    key=cfg.model_key)\n",
    "\n",
    "opt = optax.adam(cfg.lr)\n",
    "\n",
    "learner = QLearning(model=model,\n",
    "                    target_model=target_model,\n",
    "                    opt=opt,\n",
    "                    buffer=buffer,\n",
    "                    cfg=cfg)\n",
    "\n",
    "agent = EpsilonGreedyAgent(model=model,\n",
    "                           learner=learner,\n",
    "                           init_eps=cfg.init_eps,\n",
    "                           min_eps=cfg.min_eps,\n",
    "                           eps_decay=cfg.eps_decay,\n",
    "                           eps_warmup=cfg.eps_warmup,\n",
    "                           key=cfg.agent_key)"
   ]
  },
  {
   "cell_type": "code",
   "execution_count": 14,
   "id": "d16963f5",
   "metadata": {
    "scrolled": false
   },
   "outputs": [
    {
     "ename": "TypeError",
     "evalue": "dot_general requires contracting dimensions to have the same shape, got (256,) and (3,).",
     "output_type": "error",
     "traceback": [
      "\u001b[0;31m---------------------------------------------------------------------------\u001b[0m",
      "\u001b[0;31mTypeError\u001b[0m                                 Traceback (most recent call last)",
      "Input \u001b[0;32mIn [14]\u001b[0m, in \u001b[0;36m<cell line: 1>\u001b[0;34m()\u001b[0m\n\u001b[0;32m----> 1\u001b[0m \u001b[43minteract\u001b[49m\u001b[43m(\u001b[49m\u001b[43magent\u001b[49m\u001b[43m,\u001b[49m\u001b[43m \u001b[49m\u001b[43mbuffer\u001b[49m\u001b[43m,\u001b[49m\u001b[43m \u001b[49m\u001b[43mcfg\u001b[49m\u001b[43m)\u001b[49m\n",
      "Input \u001b[0;32mIn [9]\u001b[0m, in \u001b[0;36minteract\u001b[0;34m(agent, buffer, cfg)\u001b[0m\n\u001b[1;32m     11\u001b[0m \u001b[38;5;28;01mfor\u001b[39;00m timestep_i \u001b[38;5;129;01min\u001b[39;00m \u001b[38;5;28mrange\u001b[39m(max_timesteps):\n\u001b[1;32m     12\u001b[0m     timestep_dict \u001b[38;5;241m=\u001b[39m {\n\u001b[1;32m     13\u001b[0m         \u001b[38;5;124m\"\u001b[39m\u001b[38;5;124mtimestep\u001b[39m\u001b[38;5;124m\"\u001b[39m: timestep_i\n\u001b[1;32m     14\u001b[0m     }\n\u001b[0;32m---> 15\u001b[0m     act, next_h_state \u001b[38;5;241m=\u001b[39m \u001b[43magent\u001b[49m\u001b[38;5;241;43m.\u001b[39;49m\u001b[43mcompute_action\u001b[49m\u001b[43m(\u001b[49m\u001b[43mobs\u001b[49m\u001b[43m,\u001b[49m\u001b[43m \u001b[49m\u001b[43mh_state\u001b[49m\u001b[43m)\u001b[49m\n\u001b[1;32m     16\u001b[0m     \u001b[38;5;66;03m# TODO: Action repeat for simpler environment for now\u001b[39;00m\n\u001b[1;32m     17\u001b[0m     curr_rew \u001b[38;5;241m=\u001b[39m \u001b[38;5;241m0.\u001b[39m\n",
      "Input \u001b[0;32mIn [11]\u001b[0m, in \u001b[0;36mEpsilonGreedyAgent.compute_action\u001b[0;34m(self, obs, h_state, overwrite_rng_key)\u001b[0m\n\u001b[1;32m     25\u001b[0m new_key, curr_key \u001b[38;5;241m=\u001b[39m jrandom\u001b[38;5;241m.\u001b[39msplit(\u001b[38;5;28mself\u001b[39m\u001b[38;5;241m.\u001b[39m_key)\n\u001b[1;32m     26\u001b[0m \u001b[38;5;28;01mif\u001b[39;00m jrandom\u001b[38;5;241m.\u001b[39mbernoulli(key\u001b[38;5;241m=\u001b[39mcurr_key, p\u001b[38;5;241m=\u001b[39m\u001b[38;5;28mself\u001b[39m\u001b[38;5;241m.\u001b[39m_eps):\n\u001b[0;32m---> 27\u001b[0m     val, next_h_state \u001b[38;5;241m=\u001b[39m \u001b[38;5;28;43mself\u001b[39;49m\u001b[38;5;241;43m.\u001b[39;49m\u001b[43mmodel\u001b[49m\u001b[38;5;241;43m.\u001b[39;49m\u001b[43mq_values\u001b[49m\u001b[43m(\u001b[49m\u001b[43mobs\u001b[49m\u001b[43m,\u001b[49m\u001b[43m \u001b[49m\u001b[43mh_state\u001b[49m\u001b[43m)\u001b[49m\n\u001b[1;32m     28\u001b[0m     action \u001b[38;5;241m=\u001b[39m jrandom\u001b[38;5;241m.\u001b[39mrandint(curr_key, shape\u001b[38;5;241m=\u001b[39m(\u001b[38;5;241m1\u001b[39m,), minval\u001b[38;5;241m=\u001b[39m\u001b[38;5;241m0\u001b[39m, maxval\u001b[38;5;241m=\u001b[39mval\u001b[38;5;241m.\u001b[39mshape[\u001b[38;5;241m-\u001b[39m\u001b[38;5;241m1\u001b[39m])\u001b[38;5;241m.\u001b[39mitem()\n\u001b[1;32m     29\u001b[0m \u001b[38;5;28;01melse\u001b[39;00m:\n",
      "Input \u001b[0;32mIn [10]\u001b[0m, in \u001b[0;36mMLPQ.q_values\u001b[0;34m(self, obs, h_state)\u001b[0m\n\u001b[1;32m     56\u001b[0m \u001b[38;5;28;01mfor\u001b[39;00m layer_i \u001b[38;5;129;01min\u001b[39;00m \u001b[38;5;28mrange\u001b[39m(\u001b[38;5;28mself\u001b[39m\u001b[38;5;241m.\u001b[39mnum_hidden):\n\u001b[1;32m     57\u001b[0m     x \u001b[38;5;241m=\u001b[39m jax\u001b[38;5;241m.\u001b[39mnn\u001b[38;5;241m.\u001b[39mrelu(\u001b[38;5;28mself\u001b[39m\u001b[38;5;241m.\u001b[39mweights[layer_i](x) \u001b[38;5;241m+\u001b[39m \u001b[38;5;28mself\u001b[39m\u001b[38;5;241m.\u001b[39mbiases[layer_i])\n\u001b[0;32m---> 58\u001b[0m x \u001b[38;5;241m=\u001b[39m \u001b[38;5;28;43mself\u001b[39;49m\u001b[38;5;241;43m.\u001b[39;49m\u001b[43mweights\u001b[49m\u001b[43m[\u001b[49m\u001b[38;5;241;43m-\u001b[39;49m\u001b[38;5;241;43m1\u001b[39;49m\u001b[43m]\u001b[49m\u001b[43m(\u001b[49m\u001b[43mx\u001b[49m\u001b[43m)\u001b[49m \u001b[38;5;241m+\u001b[39m \u001b[38;5;28mself\u001b[39m\u001b[38;5;241m.\u001b[39mbiases[\u001b[38;5;241m-\u001b[39m\u001b[38;5;241m1\u001b[39m]\n\u001b[1;32m     59\u001b[0m \u001b[38;5;28;01mreturn\u001b[39;00m x, h_state\n",
      "File \u001b[0;32m~/work/personal_research/jax_learning/.venv/lib/python3.10/site-packages/equinox/nn/linear.py:75\u001b[0m, in \u001b[0;36mLinear.__call__\u001b[0;34m(self, x, key)\u001b[0m\n\u001b[1;32m     51\u001b[0m \u001b[38;5;28;01mdef\u001b[39;00m \u001b[38;5;21m__call__\u001b[39m(\n\u001b[1;32m     52\u001b[0m     \u001b[38;5;28mself\u001b[39m, x: Array, \u001b[38;5;241m*\u001b[39m, key: Optional[\u001b[38;5;124m\"\u001b[39m\u001b[38;5;124mjax.random.PRNGKey\u001b[39m\u001b[38;5;124m\"\u001b[39m] \u001b[38;5;241m=\u001b[39m \u001b[38;5;28;01mNone\u001b[39;00m\n\u001b[1;32m     53\u001b[0m ) \u001b[38;5;241m-\u001b[39m\u001b[38;5;241m>\u001b[39m Array:\n\u001b[1;32m     54\u001b[0m     \u001b[38;5;124;03m\"\"\"**Arguments:**\u001b[39;00m\n\u001b[1;32m     55\u001b[0m \n\u001b[1;32m     56\u001b[0m \u001b[38;5;124;03m    - `x`: The input. Should be a JAX array of shape `(in_features,)`.\u001b[39;00m\n\u001b[0;32m   (...)\u001b[0m\n\u001b[1;32m     72\u001b[0m \u001b[38;5;124;03m    A JAX array of shape `(out_features,)`\u001b[39;00m\n\u001b[1;32m     73\u001b[0m \u001b[38;5;124;03m    \"\"\"\u001b[39;00m\n\u001b[0;32m---> 75\u001b[0m     x \u001b[38;5;241m=\u001b[39m \u001b[38;5;28;43mself\u001b[39;49m\u001b[38;5;241;43m.\u001b[39;49m\u001b[43mweight\u001b[49m\u001b[43m \u001b[49m\u001b[38;5;241;43m@\u001b[39;49m\u001b[43m \u001b[49m\u001b[43mx\u001b[49m\n\u001b[1;32m     76\u001b[0m     \u001b[38;5;28;01mif\u001b[39;00m \u001b[38;5;28mself\u001b[39m\u001b[38;5;241m.\u001b[39mbias \u001b[38;5;129;01mis\u001b[39;00m \u001b[38;5;129;01mnot\u001b[39;00m \u001b[38;5;28;01mNone\u001b[39;00m:\n\u001b[1;32m     77\u001b[0m         x \u001b[38;5;241m=\u001b[39m x \u001b[38;5;241m+\u001b[39m \u001b[38;5;28mself\u001b[39m\u001b[38;5;241m.\u001b[39mbias\n",
      "File \u001b[0;32m~/work/personal_research/jax_learning/.venv/lib/python3.10/site-packages/jax/_src/numpy/lax_numpy.py:4557\u001b[0m, in \u001b[0;36m_defer_to_unrecognized_arg.<locals>.deferring_binary_op\u001b[0;34m(self, other)\u001b[0m\n\u001b[1;32m   4555\u001b[0m \u001b[38;5;28;01mif\u001b[39;00m \u001b[38;5;129;01mnot\u001b[39;00m \u001b[38;5;28misinstance\u001b[39m(other, _accepted_binop_types):\n\u001b[1;32m   4556\u001b[0m   \u001b[38;5;28;01mreturn\u001b[39;00m \u001b[38;5;28mNotImplemented\u001b[39m\n\u001b[0;32m-> 4557\u001b[0m \u001b[38;5;28;01mreturn\u001b[39;00m \u001b[43mbinary_op\u001b[49m\u001b[43m(\u001b[49m\u001b[38;5;28;43mself\u001b[39;49m\u001b[43m,\u001b[49m\u001b[43m \u001b[49m\u001b[43mother\u001b[49m\u001b[43m)\u001b[49m\n",
      "    \u001b[0;31m[... skipping hidden 14 frame]\u001b[0m\n",
      "File \u001b[0;32m~/work/personal_research/jax_learning/.venv/lib/python3.10/site-packages/jax/_src/numpy/lax_numpy.py:2764\u001b[0m, in \u001b[0;36mmatmul\u001b[0;34m(a, b, precision)\u001b[0m\n\u001b[1;32m   2762\u001b[0m a \u001b[38;5;241m=\u001b[39m lax\u001b[38;5;241m.\u001b[39msqueeze(a, \u001b[38;5;28mtuple\u001b[39m(a_squeeze))\n\u001b[1;32m   2763\u001b[0m b \u001b[38;5;241m=\u001b[39m lax\u001b[38;5;241m.\u001b[39msqueeze(b, \u001b[38;5;28mtuple\u001b[39m(b_squeeze))\n\u001b[0;32m-> 2764\u001b[0m out \u001b[38;5;241m=\u001b[39m \u001b[43mlax\u001b[49m\u001b[38;5;241;43m.\u001b[39;49m\u001b[43mdot_general\u001b[49m\u001b[43m(\u001b[49m\n\u001b[1;32m   2765\u001b[0m \u001b[43m  \u001b[49m\u001b[43ma\u001b[49m\u001b[43m,\u001b[49m\u001b[43m \u001b[49m\u001b[43mb\u001b[49m\u001b[43m,\u001b[49m\u001b[43m \u001b[49m\u001b[43m(\u001b[49m\u001b[43m(\u001b[49m\u001b[43m(\u001b[49m\u001b[43mndim\u001b[49m\u001b[43m(\u001b[49m\u001b[43ma\u001b[49m\u001b[43m)\u001b[49m\u001b[43m \u001b[49m\u001b[38;5;241;43m-\u001b[39;49m\u001b[43m \u001b[49m\u001b[38;5;241;43m1\u001b[39;49m\u001b[43m,\u001b[49m\u001b[43m)\u001b[49m\u001b[43m,\u001b[49m\u001b[43m \u001b[49m\u001b[43m(\u001b[49m\u001b[43mndim\u001b[49m\u001b[43m(\u001b[49m\u001b[43mb\u001b[49m\u001b[43m)\u001b[49m\u001b[43m \u001b[49m\u001b[38;5;241;43m-\u001b[39;49m\u001b[43m \u001b[49m\u001b[38;5;241;43m1\u001b[39;49m\u001b[43m \u001b[49m\u001b[38;5;241;43m-\u001b[39;49m\u001b[43m \u001b[49m\u001b[43mb_is_mat\u001b[49m\u001b[43m,\u001b[49m\u001b[43m)\u001b[49m\u001b[43m)\u001b[49m\u001b[43m,\u001b[49m\u001b[43m \u001b[49m\u001b[43m(\u001b[49m\u001b[43ma_batch\u001b[49m\u001b[43m,\u001b[49m\u001b[43m \u001b[49m\u001b[43mb_batch\u001b[49m\u001b[43m)\u001b[49m\u001b[43m)\u001b[49m\u001b[43m,\u001b[49m\n\u001b[1;32m   2766\u001b[0m \u001b[43m  \u001b[49m\u001b[43mprecision\u001b[49m\u001b[38;5;241;43m=\u001b[39;49m\u001b[43mprecision\u001b[49m\u001b[43m)\u001b[49m\n\u001b[1;32m   2767\u001b[0m \u001b[38;5;28;01mreturn\u001b[39;00m lax\u001b[38;5;241m.\u001b[39mtranspose(out, perm)\n",
      "    \u001b[0;31m[... skipping hidden 7 frame]\u001b[0m\n",
      "File \u001b[0;32m~/work/personal_research/jax_learning/.venv/lib/python3.10/site-packages/jax/_src/lax/lax.py:2409\u001b[0m, in \u001b[0;36m_dot_general_shape_rule\u001b[0;34m(lhs, rhs, dimension_numbers, precision, preferred_element_type)\u001b[0m\n\u001b[1;32m   2406\u001b[0m \u001b[38;5;28;01mif\u001b[39;00m \u001b[38;5;129;01mnot\u001b[39;00m core\u001b[38;5;241m.\u001b[39msymbolic_equal_shape(lhs_contracting_shape, rhs_contracting_shape):\n\u001b[1;32m   2407\u001b[0m   msg \u001b[38;5;241m=\u001b[39m (\u001b[38;5;124m\"\u001b[39m\u001b[38;5;124mdot_general requires contracting dimensions to have the same \u001b[39m\u001b[38;5;124m\"\u001b[39m\n\u001b[1;32m   2408\u001b[0m          \u001b[38;5;124m\"\u001b[39m\u001b[38;5;124mshape, got \u001b[39m\u001b[38;5;132;01m{}\u001b[39;00m\u001b[38;5;124m and \u001b[39m\u001b[38;5;132;01m{}\u001b[39;00m\u001b[38;5;124m.\u001b[39m\u001b[38;5;124m\"\u001b[39m)\n\u001b[0;32m-> 2409\u001b[0m   \u001b[38;5;28;01mraise\u001b[39;00m \u001b[38;5;167;01mTypeError\u001b[39;00m(msg\u001b[38;5;241m.\u001b[39mformat(lhs_contracting_shape, rhs_contracting_shape))\n\u001b[1;32m   2411\u001b[0m \u001b[38;5;28;01mreturn\u001b[39;00m _dot_general_shape_computation(lhs\u001b[38;5;241m.\u001b[39mshape, rhs\u001b[38;5;241m.\u001b[39mshape, dimension_numbers)\n",
      "\u001b[0;31mTypeError\u001b[0m: dot_general requires contracting dimensions to have the same shape, got (256,) and (3,)."
     ]
    }
   ],
   "source": [
    "interact(agent, buffer, cfg)"
   ]
  },
  {
   "cell_type": "code",
   "execution_count": null,
   "id": "99f8fed1",
   "metadata": {},
   "outputs": [],
   "source": [
    "assert 0"
   ]
  },
  {
   "cell_type": "markdown",
   "id": "a5e3de61",
   "metadata": {},
   "source": [
    "# Testing JAX"
   ]
  },
  {
   "cell_type": "code",
   "execution_count": null,
   "id": "88c2c6cc",
   "metadata": {
    "scrolled": true
   },
   "outputs": [],
   "source": [
    "import jax\n",
    "import jax.numpy as jnp\n",
    "\n",
    "def selu(x, alpha=1.67, lambda_=1.05):\n",
    "  return lambda_ * jnp.where(x > 0, x, alpha * jnp.exp(x) - alpha)\n",
    "\n",
    "x = jnp.arange(1000000)\n",
    "%timeit selu(x).block_until_ready()\n"
   ]
  },
  {
   "cell_type": "code",
   "execution_count": null,
   "id": "c4c67435",
   "metadata": {},
   "outputs": [],
   "source": [
    "selu_jit = jax.jit(selu)\n",
    "\n",
    "# Warm up\n",
    "selu_jit(x).block_until_ready()\n",
    "\n",
    "%timeit selu_jit(x).block_until_ready()"
   ]
  },
  {
   "cell_type": "code",
   "execution_count": null,
   "id": "7fa1b08e",
   "metadata": {},
   "outputs": [],
   "source": [
    "x_np = np.arange(1000000)\n",
    "%timeit selu_jit(x_np).block_until_ready()"
   ]
  },
  {
   "cell_type": "code",
   "execution_count": null,
   "id": "04af5dd2",
   "metadata": {},
   "outputs": [],
   "source": [
    "@partial(jax.jit, static_argnames=('n'))\n",
    "def g(x, n):\n",
    "  i = 0\n",
    "  while i < n:\n",
    "    i += 1\n",
    "  return x + i\n",
    "\n",
    "g(10, 20)  # Should raise an error."
   ]
  },
  {
   "cell_type": "code",
   "execution_count": null,
   "id": "1b11e467",
   "metadata": {},
   "outputs": [],
   "source": [
    "import equinox as eqx\n",
    "import jax\n",
    "import jax.nn as jnn\n",
    "import jax.numpy as jnp\n",
    "import jax.random as jrandom\n",
    "\n",
    "class MyModule(eqx.Module):\n",
    "    # Specify the module's attributes;\n",
    "    layers: list\n",
    "    bias: jnp.ndarray\n",
    "\n",
    "    # And how to initialise them;\n",
    "    def __init__(self, key):\n",
    "        key1, key2 = jrandom.split(key)\n",
    "        self.layers = [eqx.nn.Linear(2, 8, key=key1),\n",
    "                       eqx.nn.Linear(8, 2, key=key2)]\n",
    "        self.bias = jnp.ones(2)\n",
    "\n",
    "    # And the forward pass of the model.\n",
    "    def __call__(self, x):\n",
    "        for layer in self.layers[:-1]:\n",
    "            x = jnn.relu(layer(x))\n",
    "        return self.layers[-1](x) + self.bias\n",
    "\n",
    "@jax.jit\n",
    "@jax.grad\n",
    "def loss(model, x, y):\n",
    "    pred_y = jax.vmap(model)(x)\n",
    "    return jnp.mean((y - pred_y) ** 2)\n",
    "\n",
    "x_key, y_key, model_key = jrandom.split(jrandom.PRNGKey(0), 3)\n",
    "x, y = jrandom.normal(x_key, (100, 2)), jrandom.normal(y_key, (100, 2))\n",
    "model = MyModule(model_key)\n",
    "grads = loss(model, x, y)"
   ]
  },
  {
   "cell_type": "code",
   "execution_count": null,
   "id": "4e2dbe67",
   "metadata": {},
   "outputs": [],
   "source": [
    "print(grads)"
   ]
  },
  {
   "cell_type": "code",
   "execution_count": null,
   "id": "2d9ee5e3",
   "metadata": {},
   "outputs": [],
   "source": [
    "print(grads.bias)"
   ]
  },
  {
   "cell_type": "code",
   "execution_count": null,
   "id": "ac018d03",
   "metadata": {},
   "outputs": [],
   "source": []
  }
 ],
 "metadata": {
  "kernelspec": {
   "display_name": "Python 3 (ipykernel)",
   "language": "python",
   "name": "python3"
  },
  "language_info": {
   "codemirror_mode": {
    "name": "ipython",
    "version": 3
   },
   "file_extension": ".py",
   "mimetype": "text/x-python",
   "name": "python",
   "nbconvert_exporter": "python",
   "pygments_lexer": "ipython3",
   "version": "3.10.4"
  }
 },
 "nbformat": 4,
 "nbformat_minor": 5
}
