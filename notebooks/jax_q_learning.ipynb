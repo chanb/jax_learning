{
 "cells": [
  {
   "cell_type": "code",
   "execution_count": 1,
   "id": "bf3ba0e0",
   "metadata": {},
   "outputs": [],
   "source": [
    "import equinox as eqx\n",
    "import gym\n",
    "import jax\n",
    "import jax.numpy as jnp\n",
    "import jax.random as jrandom\n",
    "import numpy as np\n",
    "import optax\n",
    "import timeit\n",
    "import wandb\n",
    "\n",
    "from argparse import Namespace\n",
    "from functools import partial\n",
    "from jax import grad, jit, vmap\n",
    "from typing import Sequence\n",
    "\n",
    "from jax_learning.buffers.ram_buffers import NextStateNumPyBuffer\n",
    "from jax_learning.buffers.utils import batch_flatten, to_jnp"
   ]
  },
  {
   "cell_type": "code",
   "execution_count": 2,
   "id": "2522f045",
   "metadata": {},
   "outputs": [
    {
     "name": "stderr",
     "output_type": "stream",
     "text": [
      "/Users/chanb/work/personal_research/jax_learning/.venv/lib/python3.10/site-packages/notebook/utils.py:280: DeprecationWarning: distutils Version classes are deprecated. Use packaging.version instead.\n",
      "  return LooseVersion(v) >= LooseVersion(check)\n",
      "\u001b[34m\u001b[1mwandb\u001b[0m: Currently logged in as: \u001b[33mchan\u001b[0m. Use \u001b[1m`wandb login --relogin`\u001b[0m to force relogin\n",
      "/Users/chanb/work/personal_research/jax_learning/.venv/lib/python3.10/site-packages/wandb/sdk/lib/ipython.py:47: DeprecationWarning: Importing display from IPython.core.display is deprecated since IPython 7.14, please import from IPython display\n",
      "  from IPython.core.display import display, HTML  # type: ignore\n"
     ]
    },
    {
     "data": {
      "text/html": [
       "wandb version 0.12.19 is available!  To upgrade, please run:\n",
       " $ pip install wandb --upgrade"
      ],
      "text/plain": [
       "<IPython.core.display.HTML object>"
      ]
     },
     "metadata": {},
     "output_type": "display_data"
    },
    {
     "data": {
      "text/html": [
       "Tracking run with wandb version 0.12.18"
      ],
      "text/plain": [
       "<IPython.core.display.HTML object>"
      ]
     },
     "metadata": {},
     "output_type": "display_data"
    },
    {
     "data": {
      "text/html": [
       "Run data is saved locally in <code>/Users/chanb/work/personal_research/jax_learning/notebooks/wandb/run-20220622_143522-2d101g91</code>"
      ],
      "text/plain": [
       "<IPython.core.display.HTML object>"
      ]
     },
     "metadata": {},
     "output_type": "display_data"
    },
    {
     "data": {
      "text/html": [
       "Syncing run <strong><a href=\"http://localhost:8080/chan/test_jax_rl/runs/2d101g91\" target=\"_blank\">restful-terrain-16</a></strong> to <a href=\"http://localhost:8080/chan/test_jax_rl\" target=\"_blank\">Weights & Biases</a> (<a href=\"https://wandb.me/run\" target=\"_blank\">docs</a>)<br/>"
      ],
      "text/plain": [
       "<IPython.core.display.HTML object>"
      ]
     },
     "metadata": {},
     "output_type": "display_data"
    },
    {
     "data": {
      "text/html": [
       "<button onClick=\"this.nextSibling.style.display='block';this.style.display='none';\">Display W&B run</button><iframe src=\"http://localhost:8080/chan/test_jax_rl/runs/2d101g91?jupyter=true\" style=\"border:none;width:100%;height:420px;display:none;\"></iframe>"
      ],
      "text/plain": [
       "<wandb.sdk.wandb_run.Run at 0x1197e9510>"
      ]
     },
     "execution_count": 2,
     "metadata": {},
     "output_type": "execute_result"
    }
   ],
   "source": [
    "wandb.init(project=\"test_jax_rl\", group=\"cartpole-dqn_test\")"
   ]
  },
  {
   "cell_type": "code",
   "execution_count": 3,
   "id": "b68d3a1c",
   "metadata": {},
   "outputs": [],
   "source": [
    "cfg_dict = {\n",
    "    # Environment setup\n",
    "    \"env\": \"CartPole-v0\",\n",
    "    \"seed\": 0,\n",
    "    \"render\": False,\n",
    "    \n",
    "    # Experiment progress\n",
    "    \"load_step\": 0,\n",
    "    \"log_interval\": 5000,\n",
    "    \n",
    "    # Learning hyperparameters\n",
    "    \"max_timesteps\": 100000,\n",
    "    \"buffer_size\": 100000,\n",
    "    \"buffer_warmup\": 10000,\n",
    "    \"num_gradient_steps\": 1,\n",
    "    \"batch_size\": 128,\n",
    "    \"lr\": 3e-4,\n",
    "    \"gamma\": 0.99,\n",
    "    \"update_frequency\": 1,\n",
    "    \"target_update_frequency\": 1000,\n",
    "    \"tau\": 1.,\n",
    "    \n",
    "    # Epsilon greedy hyperparameters\n",
    "    \"init_eps\": 0.5,\n",
    "    \"min_eps\": 0.02,\n",
    "    \"eps_decay\": 0.9995,\n",
    "    \"eps_warmup\": 10000,\n",
    "    \n",
    "    # Model architecture\n",
    "    \"hidden_dim\": 64,\n",
    "    \"num_hidden\": 2,\n",
    "    \n",
    "    # Evaluation\n",
    "    \"eval_cfg\": {\n",
    "        \"max_episodes\": 10,\n",
    "        \"seed\": 1,\n",
    "        \"render\": True,\n",
    "    }\n",
    "}\n",
    "cfg = Namespace(**cfg_dict)\n",
    "eval_cfg = Namespace(**cfg.eval_cfg)\n",
    "wandb.config = cfg_dict"
   ]
  },
  {
   "cell_type": "code",
   "execution_count": 4,
   "id": "51211286",
   "metadata": {},
   "outputs": [],
   "source": [
    "np.random.seed(cfg.seed)"
   ]
  },
  {
   "cell_type": "code",
   "execution_count": 5,
   "id": "502213a1",
   "metadata": {
    "scrolled": false
   },
   "outputs": [
    {
     "name": "stderr",
     "output_type": "stream",
     "text": [
      "/Users/chanb/work/personal_research/jax_learning/.venv/lib/python3.10/site-packages/gym/envs/registration.py:564: UserWarning: \u001b[33mWARN: The environment CartPole-v0 is out of date. You should consider upgrading to version `v1`.\u001b[0m\n",
      "  logger.warn(\n",
      "/Users/chanb/work/personal_research/jax_learning/.venv/lib/python3.10/site-packages/gym/utils/passive_env_checker.py:97: UserWarning: \u001b[33mWARN: We recommend you to use a symmetric and normalized Box action space (range=[-1, 1]) https://stable-baselines3.readthedocs.io/en/master/guide/rl_tips.html\u001b[0m\n",
      "  logger.warn(\n"
     ]
    }
   ],
   "source": [
    "env = gym.make(cfg.env)"
   ]
  },
  {
   "cell_type": "code",
   "execution_count": 6,
   "id": "f626005e",
   "metadata": {},
   "outputs": [],
   "source": [
    "cfg.obs_dim = env.observation_space.shape\n",
    "cfg.act_dim = (env.action_space.n,)\n",
    "cfg.action_space = \"discrete\""
   ]
  },
  {
   "cell_type": "code",
   "execution_count": 7,
   "id": "74e814a3",
   "metadata": {},
   "outputs": [],
   "source": [
    "cfg.h_state_dim = (1,)\n",
    "cfg.rew_dim = (1,)"
   ]
  },
  {
   "cell_type": "code",
   "execution_count": 8,
   "id": "f23d025a",
   "metadata": {},
   "outputs": [
    {
     "data": {
      "text/plain": [
       "Namespace(env='CartPole-v0', seed=0, render=False, load_step=0, log_interval=5000, max_timesteps=100000, buffer_size=100000, buffer_warmup=10000, num_gradient_steps=1, batch_size=128, lr=0.0003, gamma=0.99, update_frequency=1, target_update_frequency=1000, tau=1.0, init_eps=0.5, min_eps=0.02, eps_decay=0.9995, eps_warmup=10000, hidden_dim=64, num_hidden=2, eval_cfg={'max_episodes': 10, 'seed': 1, 'render': True}, obs_dim=(4,), act_dim=(2,), action_space='discrete', h_state_dim=(1,), rew_dim=(1,))"
      ]
     },
     "execution_count": 8,
     "metadata": {},
     "output_type": "execute_result"
    }
   ],
   "source": [
    "cfg"
   ]
  },
  {
   "cell_type": "code",
   "execution_count": 9,
   "id": "8ccbb60d",
   "metadata": {},
   "outputs": [
    {
     "name": "stderr",
     "output_type": "stream",
     "text": [
      "WARNING:absl:No GPU/TPU found, falling back to CPU. (Set TF_CPP_MIN_LOG_LEVEL=0 and rerun for more info.)\n"
     ]
    }
   ],
   "source": [
    "cfg.buffer_rng = np.random.RandomState(cfg.seed)\n",
    "cfg.env_rng = np.random.RandomState(cfg.seed)\n",
    "cfg.agent_key, cfg.model_key = jrandom.split(jrandom.PRNGKey(cfg.seed), num=2)\n",
    "eval_cfg.env_rng = np.random.RandomState(eval_cfg.seed)"
   ]
  },
  {
   "cell_type": "code",
   "execution_count": 10,
   "id": "b259568b",
   "metadata": {},
   "outputs": [],
   "source": [
    "def interact(env, agent, buffer, cfg):\n",
    "    max_timesteps = cfg.max_timesteps\n",
    "    log_interval = cfg.log_interval\n",
    "    render = env.render if cfg.render else lambda: None\n",
    "    env_rng = cfg.env_rng\n",
    "    \n",
    "    obs = env.reset(seed=env_rng.randint(0, float(\"inf\")))\n",
    "    h_state = agent.reset()\n",
    "    ep_return = 0.\n",
    "    ep_i = 0\n",
    "    ep_len = 0\n",
    "    tic = timeit.default_timer()\n",
    "    for timestep_i in range(max_timesteps):\n",
    "        timestep_dict = {\n",
    "            \"timestep\": timestep_i\n",
    "        }\n",
    "        act, next_h_state = agent.compute_action(obs, h_state)\n",
    "        next_obs, rew, done, info = env.step(act)\n",
    "        render()\n",
    "        buffer.push(obs, h_state, act, rew, done, info, next_obs, next_h_state)\n",
    "        agent.learner.update(next_obs, next_h_state, timestep_dict)\n",
    "        obs = next_obs\n",
    "        ep_return += rew\n",
    "        ep_len += 1\n",
    "        \n",
    "        if done:\n",
    "            obs = env.reset(seed=env_rng.randint(0, float(\"inf\")))\n",
    "            h_state = agent.reset()\n",
    "            timestep_dict[\"episodic_return\"] = ep_return\n",
    "            timestep_dict[\"episode\"] = ep_i\n",
    "            timestep_dict[\"episode_length\"] = ep_len\n",
    "            ep_return = 0.\n",
    "            ep_len = 0\n",
    "            ep_i += 1\n",
    "            \n",
    "        if (timestep_i + 1) % log_interval == 0:\n",
    "            toc = timeit.default_timer()\n",
    "            timestep_dict[\"time_diff\"] = toc - tic\n",
    "            tic = timeit.default_timer()\n",
    "            \n",
    "        wandb.log(timestep_dict)\n",
    "        \n",
    "def evaluate(env, agent, cfg):\n",
    "    max_episodes = cfg.max_episodes\n",
    "    render = env.render if cfg.render else lambda: None\n",
    "\n",
    "    for ep_i in range(max_episodes):\n",
    "        tic = timeit.default_timer()\n",
    "        obs = env.reset(seed=env_rng.randint(0, float(\"inf\")))\n",
    "        h_state = agent.reset()\n",
    "        ep_return = 0.\n",
    "        ep_len = 0\n",
    "        done = False\n",
    "        while not done:\n",
    "            timestep_dict = {\n",
    "                \"timestep\": ep_len\n",
    "            }\n",
    "            act, next_h_state = agent.deterministic_action(obs, h_state)\n",
    "            next_obs, rew, done, info = env.step(act)\n",
    "            render()\n",
    "            obs = next_obs\n",
    "            ep_return += rew\n",
    "            ep_len += 1\n",
    "\n",
    "            if done:\n",
    "                toc = timeit.default_timer()\n",
    "                timestep_dict[\"eval_episodic_return\"] = ep_return\n",
    "                timestep_dict[\"eval_episode\"] = ep_i\n",
    "                timestep_dict[\"eval_episode_length\"] = ep_len\n",
    "                timestep_dict[\"eval_per_episode_time\"] = toc - tic\n",
    "\n",
    "            wandb.log(timestep_dict)"
   ]
  },
  {
   "cell_type": "code",
   "execution_count": 11,
   "id": "15f82f3f",
   "metadata": {},
   "outputs": [],
   "source": [
    "class ParameterizedSoftmaxQ(eqx.Module):\n",
    "    obs_dim: int\n",
    "    act_dim: int\n",
    "\n",
    "    def __init__(self, obs_dim, act_dim):\n",
    "        self.obs_dim = int(np.product(obs_dim))\n",
    "        self.act_dim = int(np.product(act_dim))\n",
    "\n",
    "    def greedy_action(self, obs, h_state):\n",
    "        q_val, h_state = self.q_values(obs, h_state)\n",
    "        acts = jnp.argmax(q_val, axis=-1)\n",
    "        return acts, q_val[acts].reshape((1,)), h_state\n",
    "    \n",
    "    def random_action(self, obs, h_state, key):\n",
    "        q_val, h_state = self.q_values(obs, h_state)\n",
    "        acts = jrandom.categorical(key=key, logits=q_val, axis=-1)\n",
    "        return acts, q_val[acts].reshape((1,)), h_state\n",
    "    \n",
    "\n",
    "class LinearQ(ParameterizedSoftmaxQ):\n",
    "    linear: eqx.nn.Linear\n",
    "    bias: jnp.ndarray\n",
    "\n",
    "    def __init__(self, obs_dim, act_dim, key):\n",
    "        super().__init__(obs_dim, act_dim)\n",
    "        self.linear = eqx.nn.Linear(self.obs_dim, self.act_dim, use_bias=False, key=key)\n",
    "        self.bias = jnp.zeros(self.act_dim)\n",
    "\n",
    "    def q_values(self, obs, h_state):\n",
    "        return self.linear(obs) + self.bias, h_state\n",
    "    \n",
    "\n",
    "class MLPQ(ParameterizedSoftmaxQ):\n",
    "    weights: Sequence[eqx.nn.Linear]\n",
    "    biases: Sequence[jnp.ndarray]\n",
    "\n",
    "    @property\n",
    "    def num_hidden(self):\n",
    "        return len(self.weights) - 1\n",
    "\n",
    "    def __init__(self, obs_dim, act_dim, hidden_dim, num_hidden, key):\n",
    "        super().__init__(obs_dim, act_dim)\n",
    "        self.weights = [eqx.nn.Linear(self.obs_dim, hidden_dim, use_bias=False, key=key)]\n",
    "        self.biases = [jnp.zeros(hidden_dim)]\n",
    "        for _ in range(num_hidden - 1):\n",
    "            key, _ = jrandom.split(key, num=2)\n",
    "            self.weights.append(eqx.nn.Linear(hidden_dim, hidden_dim, use_bias=False, key=key))\n",
    "            self.biases.append(jnp.zeros(hidden_dim))\n",
    "            \n",
    "        key, _ = jrandom.split(key, num=2)\n",
    "        self.weights.append(eqx.nn.Linear(hidden_dim, self.act_dim, use_bias=False, key=key))\n",
    "        self.biases.append(jnp.zeros(self.act_dim))\n",
    "\n",
    "    def q_values(self, obs, h_state):\n",
    "        x = obs\n",
    "        for layer_i in range(self.num_hidden):\n",
    "            x = jax.nn.relu(self.weights[layer_i](x) + self.biases[layer_i])\n",
    "        x = self.weights[-1](x) + self.biases[-1]\n",
    "        return x, h_state"
   ]
  },
  {
   "cell_type": "code",
   "execution_count": 12,
   "id": "42b16431",
   "metadata": {},
   "outputs": [],
   "source": [
    "class EpsilonGreedyAgent:\n",
    "    def __init__(self, model, learner, init_eps, min_eps, eps_decay, eps_warmup, key):\n",
    "        self._model = model\n",
    "        self._learner = learner\n",
    "        self._eps = init_eps\n",
    "        self._init_eps = init_eps\n",
    "        self._min_eps = min_eps\n",
    "        self._eps_decay = eps_decay\n",
    "        self._eps_warmup = eps_warmup\n",
    "        self._key = key\n",
    "\n",
    "    @property\n",
    "    def model(self):\n",
    "        return self._model\n",
    "        \n",
    "    @property\n",
    "    def learner(self):\n",
    "        return self._learner\n",
    "        \n",
    "    def deterministic_action(self, obs, h_state):\n",
    "        return self.greedy_action(obs, h_state)\n",
    "        \n",
    "    def greedy_action(self, obs, h_state):\n",
    "        action, val, next_h_state = self.model.greedy_action(obs, h_state)\n",
    "        return np.asarray(action), np.asarray(next_h_state)\n",
    "        \n",
    "    def compute_action(self, obs, h_state, overwrite_rng_key=True):\n",
    "        new_key, curr_key = jrandom.split(self._key)\n",
    "        if jrandom.bernoulli(key=curr_key, p=self._eps):\n",
    "            val, next_h_state = self.model.q_values(obs, h_state)\n",
    "            action = jrandom.randint(curr_key, shape=(1,), minval=0, maxval=val.shape[-1]).item()\n",
    "        else:\n",
    "            action, val, next_h_state = self.model.greedy_action(obs, h_state)\n",
    "\n",
    "        if overwrite_rng_key:\n",
    "            self._key = new_key\n",
    "            if self._eps_warmup > 0:\n",
    "                self._eps_warmup -= 1\n",
    "            else:\n",
    "                self._eps = max(self._eps * self._eps_decay, self._min_eps)\n",
    "\n",
    "        return np.asarray(action), np.asarray(next_h_state)\n",
    "    \n",
    "    def reset(self):\n",
    "        if hasattr(self.model, \"reset\"):\n",
    "            return self.model.reset()\n",
    "        return np.array([0.], dtype=np.float32)"
   ]
  },
  {
   "cell_type": "code",
   "execution_count": 13,
   "id": "aad14f9f",
   "metadata": {},
   "outputs": [],
   "source": [
    "@eqx.filter_grad(has_aux=True)\n",
    "def compute_one_step_td_loss(model, obss, h_states, acts, targets):\n",
    "    curr_q_values, _ = jax.vmap(model.q_values)(obss, h_states)\n",
    "    loss = jnp.mean((jnp.sum(curr_q_values * acts, axis=-1, keepdims=True) - targets) ** 2)\n",
    "    return loss, {\n",
    "        \"loss\": loss,\n",
    "        \"max_target\": jnp.max(targets),\n",
    "        \"min_target\": jnp.min(targets),\n",
    "        \"mean_target\": jnp.mean(targets),\n",
    "        \"max_q\": jnp.max(curr_q_values),\n",
    "        \"min_q\": jnp.min(curr_q_values),\n",
    "        \"mean_q\": jnp.mean(curr_q_values),\n",
    "    }\n",
    "\n",
    "@eqx.filter_jit\n",
    "def make_step(model, target_model, opt, opt_state, obss, h_states, acts, rews, dones, next_obss, next_h_states, gamma):\n",
    "    _, next_q_values, _ = jax.vmap(target_model.greedy_action)(next_obss, next_h_states)\n",
    "    targets = rews + (1 - dones) * (gamma * next_q_values)\n",
    "    \n",
    "    grads, update_info = compute_one_step_td_loss(model,\n",
    "                                                  obss,\n",
    "                                                  h_states,\n",
    "                                                  acts,\n",
    "                                                  targets)\n",
    "    updates, opt_state = opt.update(grads, opt_state)\n",
    "    model = eqx.apply_updates(model, updates)\n",
    "    return model, opt_state, grads, update_info\n",
    "\n",
    "\n",
    "class QLearning:\n",
    "    def __init__(self, model, target_model, opt, buffer, cfg):\n",
    "        self._model = model\n",
    "        self._target_model = target_model\n",
    "        self._opt = opt\n",
    "        self._opt_state = self._opt.init(model)\n",
    "        self._buffer = buffer\n",
    "        self._cfg = cfg\n",
    "        \n",
    "        self._step = cfg.load_step\n",
    "        \n",
    "        self._batch_size = cfg.batch_size\n",
    "        self._buffer_warmup = cfg.buffer_warmup\n",
    "        self._num_gradient_steps = cfg.num_gradient_steps\n",
    "        self._gamma = cfg.gamma\n",
    "        self._tau = cfg.tau\n",
    "        self._update_frequency = cfg.update_frequency\n",
    "        self._target_update_frequency = cfg.target_update_frequency\n",
    "\n",
    "    @property\n",
    "    def model(self):\n",
    "        return self._model\n",
    "    \n",
    "    @property\n",
    "    def target_model(self):\n",
    "        return self._target_model\n",
    "        \n",
    "    @property\n",
    "    def buffer(self):\n",
    "        return self._buffer\n",
    "    \n",
    "    @property\n",
    "    def opt(self):\n",
    "        return self._opt\n",
    "    \n",
    "    @property\n",
    "    def opt_state(self):\n",
    "        return self._opt_state\n",
    "        \n",
    "    def update(self, next_obs, next_h_state, update_info):\n",
    "        self._step += 1\n",
    "        \n",
    "        if self._step <= self._buffer_warmup or (self._step - 1 - self._buffer_warmup) % self._update_frequency != 0:\n",
    "            return\n",
    "\n",
    "        update_info[\"mean_loss\"] = 0.\n",
    "        update_info[\"mean_q\"] = 0.\n",
    "        update_info[\"mean_target\"] = 0.\n",
    "        update_info[\"max_q\"] = -np.inf\n",
    "        update_info[\"max_target\"] = -np.inf\n",
    "        update_info[\"min_q\"] = np.inf\n",
    "        update_info[\"min_target\"] = np.inf\n",
    "        for update_i in range(self._num_gradient_steps):\n",
    "            obss, h_states, acts, rews, dones, next_obss, next_h_states, _, _, _ = self.buffer.sample_with_next_obs(batch_size=self._batch_size,\n",
    "                                                                                                                    next_obs=next_obs,\n",
    "                                                                                                                    next_h_state=next_h_state)\n",
    "\n",
    "            acts = np.eye(self.model.act_dim)[acts.astype(np.int64)]\n",
    "            \n",
    "            (obss, h_states, acts, rews, dones, next_obss, next_h_states) = to_jnp(*batch_flatten(obss,\n",
    "                                                                                                  h_states,\n",
    "                                                                                                  acts,\n",
    "                                                                                                  rews,\n",
    "                                                                                                  dones,\n",
    "                                                                                                  next_obss,\n",
    "                                                                                                  next_h_states))\n",
    "            model, opt_state, grads, curr_update_info = make_step(model=self.model,\n",
    "                                                                  target_model=self.target_model,\n",
    "                                                                  opt=self.opt,\n",
    "                                                                  opt_state=self.opt_state,\n",
    "                                                                  obss=obss,\n",
    "                                                                  h_states=h_states,\n",
    "                                                                  acts=acts,\n",
    "                                                                  rews=rews,\n",
    "                                                                  dones=dones,\n",
    "                                                                  next_obss=next_obss,\n",
    "                                                                  next_h_states=next_h_states,\n",
    "                                                                  gamma=self._gamma)\n",
    "            self._model = model\n",
    "            self._opt_state = opt_state\n",
    "            \n",
    "            if self._step % self._target_update_frequency == 0:\n",
    "                self._target_model = jax.tree_map(lambda p, tp: p * self._tau + tp * (1 - self._tau),\n",
    "                                                  self.model,\n",
    "                                                  self.target_model)\n",
    "            \n",
    "            update_info[\"mean_loss\"] += curr_update_info[\"loss\"].item() / self._num_gradient_steps\n",
    "            update_info[\"mean_q\"] += curr_update_info[\"mean_q\"].item() / self._num_gradient_steps\n",
    "            update_info[\"mean_target\"] += curr_update_info[\"mean_target\"].item() / self._num_gradient_steps\n",
    "            update_info[\"max_q\"] = max(update_info[\"max_q\"], curr_update_info[\"max_q\"].item())\n",
    "            update_info[\"max_target\"] = max(update_info[\"max_target\"], curr_update_info[\"max_target\"].item())\n",
    "            update_info[\"min_q\"] = min(update_info[\"min_q\"], curr_update_info[\"min_q\"].item())\n",
    "            update_info[\"min_target\"] = min(update_info[\"min_target\"], curr_update_info[\"min_target\"].item())"
   ]
  },
  {
   "cell_type": "code",
   "execution_count": 14,
   "id": "c25c7ef6",
   "metadata": {
    "scrolled": false
   },
   "outputs": [],
   "source": [
    "buffer = NextStateNumPyBuffer(\n",
    "    buffer_size=cfg.buffer_size,\n",
    "    obs_dim=cfg.obs_dim,\n",
    "    h_state_dim=cfg.h_state_dim,\n",
    "    act_dim=(1,) if cfg.action_space == \"discrete\" else cfg.act_dim,\n",
    "    rew_dim=cfg.rew_dim,\n",
    "    rng=cfg.buffer_rng,\n",
    ")\n",
    "\n",
    "model = MLPQ(obs_dim=cfg.obs_dim,\n",
    "                act_dim=cfg.act_dim,\n",
    "                hidden_dim=cfg.hidden_dim,\n",
    "                num_hidden=cfg.num_hidden,\n",
    "                key=cfg.model_key)\n",
    "\n",
    "target_model = MLPQ(obs_dim=cfg.obs_dim,\n",
    "                    act_dim=cfg.act_dim,\n",
    "                    hidden_dim=cfg.hidden_dim,\n",
    "                    num_hidden=cfg.num_hidden,\n",
    "                    key=cfg.model_key)\n",
    "\n",
    "opt = optax.adam(cfg.lr)\n",
    "\n",
    "learner = QLearning(model=model,\n",
    "                    target_model=target_model,\n",
    "                    opt=opt,\n",
    "                    buffer=buffer,\n",
    "                    cfg=cfg)\n",
    "\n",
    "agent = EpsilonGreedyAgent(model=model,\n",
    "                           learner=learner,\n",
    "                           init_eps=cfg.init_eps,\n",
    "                           min_eps=cfg.min_eps,\n",
    "                           eps_decay=cfg.eps_decay,\n",
    "                           eps_warmup=cfg.eps_warmup,\n",
    "                           key=cfg.agent_key)"
   ]
  },
  {
   "cell_type": "code",
   "execution_count": 15,
   "id": "e22418ee",
   "metadata": {
    "scrolled": false
   },
   "outputs": [
    {
     "ename": "OverflowError",
     "evalue": "cannot convert float infinity to integer",
     "output_type": "error",
     "traceback": [
      "\u001b[0;31m---------------------------------------------------------------------------\u001b[0m",
      "\u001b[0;31mOverflowError\u001b[0m                             Traceback (most recent call last)",
      "Input \u001b[0;32mIn [15]\u001b[0m, in \u001b[0;36m<cell line: 1>\u001b[0;34m()\u001b[0m\n\u001b[0;32m----> 1\u001b[0m \u001b[43minteract\u001b[49m\u001b[43m(\u001b[49m\u001b[43menv\u001b[49m\u001b[43m,\u001b[49m\u001b[43m \u001b[49m\u001b[43magent\u001b[49m\u001b[43m,\u001b[49m\u001b[43m \u001b[49m\u001b[43mbuffer\u001b[49m\u001b[43m,\u001b[49m\u001b[43m \u001b[49m\u001b[43mcfg\u001b[49m\u001b[43m)\u001b[49m\n",
      "Input \u001b[0;32mIn [10]\u001b[0m, in \u001b[0;36minteract\u001b[0;34m(env, agent, buffer, cfg)\u001b[0m\n\u001b[1;32m      4\u001b[0m render \u001b[38;5;241m=\u001b[39m env\u001b[38;5;241m.\u001b[39mrender \u001b[38;5;28;01mif\u001b[39;00m cfg\u001b[38;5;241m.\u001b[39mrender \u001b[38;5;28;01melse\u001b[39;00m \u001b[38;5;28;01mlambda\u001b[39;00m: \u001b[38;5;28;01mNone\u001b[39;00m\n\u001b[1;32m      5\u001b[0m env_rng \u001b[38;5;241m=\u001b[39m cfg\u001b[38;5;241m.\u001b[39menv_rng\n\u001b[0;32m----> 7\u001b[0m obs \u001b[38;5;241m=\u001b[39m env\u001b[38;5;241m.\u001b[39mreset(seed\u001b[38;5;241m=\u001b[39m\u001b[43menv_rng\u001b[49m\u001b[38;5;241;43m.\u001b[39;49m\u001b[43mrandint\u001b[49m\u001b[43m(\u001b[49m\u001b[38;5;241;43m0\u001b[39;49m\u001b[43m,\u001b[49m\u001b[43m \u001b[49m\u001b[38;5;28;43mfloat\u001b[39;49m\u001b[43m(\u001b[49m\u001b[38;5;124;43m\"\u001b[39;49m\u001b[38;5;124;43minf\u001b[39;49m\u001b[38;5;124;43m\"\u001b[39;49m\u001b[43m)\u001b[49m\u001b[43m)\u001b[49m)\n\u001b[1;32m      8\u001b[0m h_state \u001b[38;5;241m=\u001b[39m agent\u001b[38;5;241m.\u001b[39mreset()\n\u001b[1;32m      9\u001b[0m ep_return \u001b[38;5;241m=\u001b[39m \u001b[38;5;241m0.\u001b[39m\n",
      "File \u001b[0;32mmtrand.pyx:748\u001b[0m, in \u001b[0;36mnumpy.random.mtrand.RandomState.randint\u001b[0;34m()\u001b[0m\n",
      "File \u001b[0;32m_bounded_integers.pyx:1237\u001b[0m, in \u001b[0;36mnumpy.random._bounded_integers._rand_int64\u001b[0;34m()\u001b[0m\n",
      "\u001b[0;31mOverflowError\u001b[0m: cannot convert float infinity to integer"
     ]
    }
   ],
   "source": [
    "interact(env, agent, buffer, cfg)"
   ]
  },
  {
   "cell_type": "code",
   "execution_count": null,
   "id": "583f93c9",
   "metadata": {},
   "outputs": [],
   "source": [
    "evaluate(eval_env, agent, eval_cfg)"
   ]
  }
 ],
 "metadata": {
  "kernelspec": {
   "display_name": "Python 3 (ipykernel)",
   "language": "python",
   "name": "python3"
  },
  "language_info": {
   "codemirror_mode": {
    "name": "ipython",
    "version": 3
   },
   "file_extension": ".py",
   "mimetype": "text/x-python",
   "name": "python",
   "nbconvert_exporter": "python",
   "pygments_lexer": "ipython3",
   "version": "3.10.4"
  }
 },
 "nbformat": 4,
 "nbformat_minor": 5
}
